{
 "cells": [
  {
   "cell_type": "code",
   "execution_count": 1,
   "metadata": {},
   "outputs": [
    {
     "data": {
      "application/vnd.jupyter.widget-view+json": {
       "model_id": "43dfa154ef8244b6bff7211634a80867",
       "version_major": 2,
       "version_minor": 0
      },
      "text/plain": [
       "Dropdown(description='Dropdown 1:', options=('Option 1', 'Option 2', 'Option 3'), value='Option 1')"
      ]
     },
     "metadata": {},
     "output_type": "display_data"
    },
    {
     "data": {
      "application/vnd.jupyter.widget-view+json": {
       "model_id": "7f404bfc6dae4fb18b98107dbfd32b04",
       "version_major": 2,
       "version_minor": 0
      },
      "text/plain": [
       "Dropdown(description='Dropdown 2:', options=('Option A', 'Option B', 'Option C'), value='Option A')"
      ]
     },
     "metadata": {},
     "output_type": "display_data"
    },
    {
     "data": {
      "application/vnd.jupyter.widget-view+json": {
       "model_id": "b33f1c07a0a140c48fb9eadc4b1415ff",
       "version_major": 2,
       "version_minor": 0
      },
      "text/plain": [
       "Text(value='You have not selected anything yet.')"
      ]
     },
     "metadata": {},
     "output_type": "display_data"
    }
   ],
   "source": [
    "import ipywidgets as widgets\n",
    "from IPython.display import display\n",
    "\n",
    "# Define the options for the dropdown lists\n",
    "options_list_1 = ['Option 1', 'Option 2', 'Option 3']\n",
    "options_list_2 = ['Option A', 'Option B', 'Option C']\n",
    "\n",
    "# Define the dropdown widgets\n",
    "dropdown_1 = widgets.Dropdown(options=options_list_1, value=options_list_1[0], description='Dropdown 1:')\n",
    "dropdown_2 = widgets.Dropdown(options=options_list_2, value=options_list_2[0], description='Dropdown 2:')\n",
    "\n",
    "# Define the function to be called when the dropdowns change\n",
    "def on_change(*args):\n",
    "    text.value = 'You selected \"{}\" from dropdown 1 and \"{}\" from dropdown 2'.format(dropdown_1.value, dropdown_2.value)\n",
    "\n",
    "# Attach the function to the dropdowns\n",
    "dropdown_1.observe(on_change)\n",
    "dropdown_2.observe(on_change)\n",
    "\n",
    "# Create a text box to display the selected options\n",
    "text = widgets.Text(value='You have not selected anything yet.')\n",
    "\n",
    "# Display the dropdowns and text box\n",
    "display(dropdown_1)\n",
    "display(dropdown_2)\n",
    "display(text)\n"
   ]
  }
 ],
 "metadata": {
  "kernelspec": {
   "display_name": "Python 3",
   "language": "python",
   "name": "python3"
  },
  "language_info": {
   "codemirror_mode": {
    "name": "ipython",
    "version": 3
   },
   "file_extension": ".py",
   "mimetype": "text/x-python",
   "name": "python",
   "nbconvert_exporter": "python",
   "pygments_lexer": "ipython3",
   "version": "3.10.10"
  },
  "orig_nbformat": 4
 },
 "nbformat": 4,
 "nbformat_minor": 2
}
