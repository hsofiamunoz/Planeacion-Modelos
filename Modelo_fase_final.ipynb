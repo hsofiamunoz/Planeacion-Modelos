{
 "cells": [
  {
   "attachments": {},
   "cell_type": "markdown",
   "metadata": {},
   "source": [
    "### Librerias"
   ]
  },
  {
   "cell_type": "code",
   "execution_count": 1,
   "metadata": {},
   "outputs": [],
   "source": [
    "import pandas as pd\n",
    "import numpy as np\n",
    "import matplotlib.pyplot as plt\n",
    "import seaborn as sns\n",
    "import math\n",
    "from datetime import date, time, datetime\n",
    "import plotly.express as px\n",
    "import plotly.graph_objects as go\n",
    "from plotly.subplots import make_subplots\n",
    "\n",
    "from hdbcli import dbapi as db\n",
    "\n",
    "from statsmodels.tsa.api import STLForecast, ExponentialSmoothing, ExponentialSmoothing\n",
    "\n",
    "from sklearn.metrics import mean_squared_error as MSE\n",
    "from sklearn.metrics import mean_absolute_percentage_error as MAPE\n",
    "from sklearn.metrics import r2_score\n",
    "\n",
    "from statsmodels.tsa.api import STLForecast, ExponentialSmoothing, ETSModel\n",
    "\n",
    "import warnings\n",
    "warnings.filterwarnings('ignore')\n",
    "\n",
    "from prophet import Prophet\n",
    "\n",
    "import xgboost as xgb\n",
    "from xgboost import plot_importance, plot_tree\n",
    "from sklearn.metrics import mean_squared_error, mean_absolute_error\n",
    "from sklearn.model_selection import train_test_split\n",
    "from sklearn.metrics import precision_recall_fscore_support as score\n",
    "\n",
    "from sklearn.model_selection import GridSearchCV\n",
    "from xgboost import XGBRegressor\n",
    "\n",
    "from pmdarima.arima import auto_arima\n",
    "from statsmodels.tsa.api import STLForecast\n",
    "from statsmodels.tsa.arima.model import ARIMA\n",
    "\n",
    "\n",
    "import pandas as pd\n",
    "import smtplib\n",
    "from email.mime.text import MIMEText\n",
    "from email.mime.multipart import MIMEMultipart\n",
    "from email.mime.application import MIMEApplication\n",
    "from openpyxl import Workbook\n",
    "\n",
    "import pandas as pd\n",
    "import smtplib\n",
    "from email.mime.text import MIMEText\n",
    "from email.mime.multipart import MIMEMultipart\n",
    "from email.mime.application import MIMEApplication\n",
    "from openpyxl import Workbook"
   ]
  },
  {
   "attachments": {},
   "cell_type": "markdown",
   "metadata": {},
   "source": [
    "### Base de datos"
   ]
  },
  {
   "cell_type": "code",
   "execution_count": 2,
   "metadata": {},
   "outputs": [],
   "source": [
    "conn = db.connect(address='10.0.0.110', port='30015', user='DESARROLLO', password='DevHermeco.2022')\n",
    "cursor = conn.cursor()\n",
    "sql ='''SELECT \"AÑO\",\n",
    "\"CANAL\",\n",
    "\"MES\",\n",
    "\"MATERIAL\",\n",
    "\"AFS: COLOR\",\n",
    "\"AFS: TALLA\", \n",
    "\"UNIDADES\", \n",
    "\"Sublínea\",\n",
    "\"Mundo\",\n",
    "\"Tipo de Artículo\", \n",
    "\"Concepto Diseño\",\n",
    "\"Año de Venta\", \n",
    "\"Mes de Venta\", \n",
    "\"FECHA VENTA\"\n",
    "FROM HEP300.VW_CD_REPORTE_VENTAS_ALL_2016 \\\n",
    "WHERE(CANAL = 'FRANQUICIAS' OR CANAL = 'TIENDAS PROPIAS')\n",
    "AND \"AÑO\" >= 2018\n",
    "'''\n",
    "df_canal = pd.read_sql_query(sql, conn)"
   ]
  },
  {
   "attachments": {},
   "cell_type": "markdown",
   "metadata": {},
   "source": [
    "#### Filtros"
   ]
  },
  {
   "cell_type": "code",
   "execution_count": 3,
   "metadata": {},
   "outputs": [],
   "source": [
    "# canal = ['TIENDAS PROPIAS', 'FRANQUICIAS']\n",
    "# mundo = 'NIÑA'\n",
    "# # tipo = 'MINIFALDA'\n",
    "# sublinea = 'HALLOWEEN'\n",
    "tipo_modelo = 1 # tipo de modelo, si es lineal es 1. Mes a mes 0\n",
    "# fecha_inicial = pd.to_datetime('2023-10-01')\n",
    "# fecha_final = pd.to_datetime('2024-03-01')\n",
    "\n",
    "# tiendas\n",
    "# color\n",
    "# talla\n",
    "\n",
    "# fecha_inicial = pd.to_datetime(input('Ingrese la fecha en formato dd-mm-yyyy'))\n",
    "# fecha_final = input('Ingrese la fecha en formato dd-mm-yyyy')"
   ]
  },
  {
   "cell_type": "code",
   "execution_count": 4,
   "metadata": {},
   "outputs": [],
   "source": [
    "# data = df_canal.loc[df_canal['CANAL'].isin(canal)]\n",
    "# data = data[data['Concepto Diseño'] == sublinea]\n",
    "\n",
    "# data.groupby([\"Mundo\",\"Tipo de Artículo\"]).count().sort_values(by=\"UNIDADES\",ascending=False)"
   ]
  },
  {
   "attachments": {},
   "cell_type": "markdown",
   "metadata": {},
   "source": [
    "#### Funciones"
   ]
  },
  {
   "cell_type": "code",
   "execution_count": 5,
   "metadata": {},
   "outputs": [],
   "source": [
    "# rango_fechas = pd.date_range(start=fecha_inicial, end=fecha_final, freq='MS')\n",
    "\n",
    "# test_df = pd.DataFrame({'MES_AÑO': rango_fechas})\n",
    "# test_df['MES'] = test_df['MES_AÑO'].dt.month\n",
    "# test_df['AÑO'] = test_df['MES_AÑO'].dt.year\n",
    "# test_df['MES_AÑO'] = test_df['MES_AÑO'].dt.strftime('%Y-%m')\n",
    "# test_df['UNIDADES'] = 0\n",
    "# test_df"
   ]
  },
  {
   "cell_type": "code",
   "execution_count": 6,
   "metadata": {},
   "outputs": [],
   "source": [
    "def DATA_preparation(data):\n",
    "        data_df = data.groupby(['MES', 'AÑO'])[\n",
    "        'UNIDADES'].sum().to_frame().sort_values(by=['AÑO', 'MES']).reset_index()\n",
    "\n",
    "        # filtrar los meses de interes OCT-MAR\n",
    "        # data_df = data_df.loc[(data_df['MES'] >= fecha_inicial.month) | (data_df['MES'] <= fecha_final.month)]\n",
    "\n",
    "        # AGREGAR COLUMNAS PRONOSTICO\n",
    "        # TOMANDO LOS PRIMEROS 5 DATOS Y REEMPLAZANDO PARA EL FUTURO\n",
    "        data_df['MES_AÑO'] = pd.to_datetime(data_df['AÑO'].astype(str) + '-' + data_df['MES'].astype(str)).dt.strftime('%Y-%m')\n",
    "        df_model = pd.concat([data_df,test_df], axis=0, ignore_index=True)\n",
    "        return df_model"
   ]
  },
  {
   "cell_type": "code",
   "execution_count": 7,
   "metadata": {},
   "outputs": [],
   "source": [
    "def create_features_mes_venta(df, label=None):\n",
    "    df['date'] = pd.to_datetime(df.index)\n",
    "    df['quarter'] = df['date'].dt.quarter\n",
    "    df['month'] = df['date'].dt.month\n",
    "    df['year'] = df['date'].dt.year\n",
    "    df['dayofyear'] = df['date'].dt.dayofyear\n",
    "    df['weekofyear'] = df['date'].dt.isocalendar().week.astype(int)\n",
    "    df['covid'] = [1 if ((x > pd.Timestamp('2020-03')) & (x < pd.Timestamp('2021-03'))) else 0 for x in df.date]\n",
    "    \n",
    "    X = df[['quarter','month','year',\n",
    "           'dayofyear','weekofyear','covid']]\n",
    "\n",
    "    if label:\n",
    "        y = df[label]\n",
    "        return X, y\n",
    "    return X"
   ]
  },
  {
   "cell_type": "code",
   "execution_count": 8,
   "metadata": {},
   "outputs": [],
   "source": [
    "def XGB_model(df):\n",
    "    fecha_inicial = '2023-03'\n",
    "    fecha_final = '2024-03'\n",
    "\n",
    "    df_model = df.copy()\n",
    "    \n",
    "    df_model.MES_AÑO = pd.to_datetime(df_model.MES_AÑO)\n",
    "    \n",
    "    #  TRAIN & TEST\n",
    "    train = df_model.loc[df_model.MES_AÑO < pd.to_datetime(fecha_inicial)].set_index('MES_AÑO')\n",
    "    test = df_model.loc[(df_model.MES_AÑO >= pd.to_datetime(fecha_inicial)) & \n",
    "                        (df_model.MES_AÑO < pd.to_datetime(fecha_final))].set_index('MES_AÑO')\n",
    "\n",
    "    # Define el train y test de acuerdo con las bases de datos de train y de test\n",
    "    X_train, y_train = create_features_mes_venta(train, label = 'UNIDADES')\n",
    "    X_test, y_test = create_features_mes_venta(test, label = 'UNIDADES')\n",
    "\n",
    "    reg = xgb.XGBRegressor(base_score=0.5, booster='gbtree',    \n",
    "                           n_estimators = 1000,\n",
    "                           early_stopping_rounds=50,\n",
    "                           objective='reg:squarederror',\n",
    "                           max_depth=3,\n",
    "                           learning_rate=0.01,\n",
    "                           eval_metric = ['rmse','mae','mape']\n",
    "                           )\n",
    "    \n",
    "    reg.fit(X_train,y_train,\n",
    "        eval_set=[(X_train, y_train), (X_test, y_test)],\n",
    "        verbose = False)\n",
    "\n",
    "    pred_test = reg.predict(X_test)\n",
    "    test['UNIDADES'] = np.ceil(pred_test)\n",
    "\n",
    "    \n",
    "    return test[['UNIDADES']]"
   ]
  },
  {
   "cell_type": "code",
   "execution_count": 9,
   "metadata": {},
   "outputs": [],
   "source": [
    "def xgb_mes_a_mes(basicos1):\n",
    "    meses_basicos = [1,2,3,9,10,11,12]\n",
    "    basicos_forecast = {}\n",
    "\n",
    "    basicos_results = pd.DataFrame()\n",
    "    basicos1['MES'] = pd.to_datetime(basicos1['MES_AÑO']).dt.month\n",
    "\n",
    "    for mes in meses_basicos:\n",
    "        if mes in basicos1['MES'].unique():\n",
    "            basicos_results = pd.concat([basicos_results, XGB_model(basicos1[basicos1['MES'] == mes])])\n",
    "            \n",
    "        else:\n",
    "            basicos_forecast[mes] = 0\n",
    "\n",
    "    return basicos_results"
   ]
  },
  {
   "cell_type": "code",
   "execution_count": 10,
   "metadata": {},
   "outputs": [],
   "source": [
    "def calcular_Cv(basicos1):\n",
    "    basicos_clasificacion = pd.DataFrame()\n",
    "    meses = basicos1.MES.unique()\n",
    "    # meses = [1, 2, 3, 4, 5, 6, 7, 8, 9, 10, 11, 12]\n",
    "\n",
    "    # Calcular el factor CV para cada mes\n",
    "    cv_mes = {}\n",
    "    for mes in meses:\n",
    "        if mes in basicos1['MES'].unique():\n",
    "            cv_mes[mes] = round(basicos1[basicos1['MES'] == mes]['UNIDADES'].std()\n",
    "                                / basicos1[basicos1['MES'] == mes]['UNIDADES'].mean(), 2)\n",
    "        # else:\n",
    "        #     cv_mes[mes] = 0\n",
    "\n",
    "\n",
    "    lista_cv = []\n",
    "    for i in cv_mes.values():\n",
    "        lista_cv.append(i)\n",
    "    \n",
    "    coeficiente_Var = np.std(lista_cv)/np.mean(lista_cv)\n",
    "\n",
    "    return round(coeficiente_Var,2)\n"
   ]
  },
  {
   "attachments": {},
   "cell_type": "markdown",
   "metadata": {},
   "source": [
    "#### Resultados"
   ]
  },
  {
   "cell_type": "code",
   "execution_count": 11,
   "metadata": {},
   "outputs": [],
   "source": [
    "# data = df_canal.loc[df_canal['CANAL'].isin(canal)]\n",
    "# data = data.loc[(data['Mundo'] == 'NIÑO') &\n",
    "#                 (data['Tipo de Artículo'] == 'BUZO')]\n",
    "\n",
    "# data"
   ]
  },
  {
   "cell_type": "code",
   "execution_count": 12,
   "metadata": {},
   "outputs": [],
   "source": [
    "# basicos1 = DATA_preparation(data)"
   ]
  },
  {
   "cell_type": "code",
   "execution_count": 13,
   "metadata": {},
   "outputs": [],
   "source": [
    "# basicos1.head()"
   ]
  },
  {
   "cell_type": "code",
   "execution_count": null,
   "metadata": {},
   "outputs": [],
   "source": []
  },
  {
   "cell_type": "code",
   "execution_count": 14,
   "metadata": {},
   "outputs": [],
   "source": [
    "# calcular_Cv(basicos1)"
   ]
  },
  {
   "cell_type": "code",
   "execution_count": 15,
   "metadata": {},
   "outputs": [],
   "source": [
    "# XGB_model(basicos1)"
   ]
  },
  {
   "cell_type": "code",
   "execution_count": 16,
   "metadata": {},
   "outputs": [],
   "source": [
    "# xgb_mes_a_mes(basicos1).sort_index()"
   ]
  },
  {
   "attachments": {},
   "cell_type": "markdown",
   "metadata": {},
   "source": [
    "#### Resultados BASICOS"
   ]
  },
  {
   "cell_type": "code",
   "execution_count": 24,
   "metadata": {},
   "outputs": [],
   "source": [
    "basicos = df_canal[df_canal['Concepto Diseño']== 'BASICOS']"
   ]
  },
  {
   "cell_type": "code",
   "execution_count": 25,
   "metadata": {},
   "outputs": [],
   "source": [
    "rango_fechas = pd.date_range(start='2023-03', end='2024-02', freq='MS')\n",
    "\n",
    "test_df = pd.DataFrame({'MES_AÑO': rango_fechas})\n",
    "test_df['MES'] = test_df['MES_AÑO'].dt.month\n",
    "test_df['AÑO'] = test_df['MES_AÑO'].dt.year\n",
    "test_df['MES_AÑO'] = test_df['MES_AÑO'].dt.strftime('%Y-%m')\n",
    "test_df['UNIDADES'] = 0\n"
   ]
  },
  {
   "cell_type": "code",
   "execution_count": 26,
   "metadata": {},
   "outputs": [],
   "source": [
    "# for mundo in basicos['Mundo'].unique():\n",
    "    # for tipo in basicos['Tipo de Artículo'].unique():\n",
    "    #     basicos_individual = basicos[(basicos['Mundo'] == mundo) &\n",
    "    #                                  (basicos['Tipo de Artículo'] == tipo)]\n",
    "        \n",
    "    #     basicos_individual2 = basicos_individual.groupby(['MES', 'AÑO'])[\n",
    "    #     'UNIDADES'].sum().to_frame().sort_values(by=['AÑO', 'MES']).reset_index()\n",
    "\n",
    "    #     basicos_individual2['MES_AÑO'] = pd.to_datetime(basicos_individual2['AÑO'].astype(str) + \n",
    "    #                                 '-' + basicos_individual2['MES'].astype(str)).dt.strftime('%Y-%m')\n",
    "\n",
    "    #     if(basicos_individual2.shape[0] < 10):\n",
    "    #         continue\n",
    "    #     else:\n",
    "    #         df_model = pd.concat([basicos_individual2,test_df], axis=0, ignore_index=True)\n",
    "\n",
    "    #         meses_basicos = [1,2,3,4,5,6,7,8,9,10,11,12]\n",
    "    #         basicos_forecast = {}\n",
    "\n",
    "    #         basicos_results = pd.DataFrame()\n",
    "    #         basicos1['MES'] = pd.to_datetime(basicos1['MES_AÑO']).dt.month\n",
    "\n",
    "    #         for mes in meses_basicos:\n",
    "    #             if mes in basicos1['MES'].unique():\n",
    "    #                 basicos_results = pd.concat([basicos_results, XGB_model(basicos1[basicos1['MES'] == mes])])\n",
    "                    \n",
    "    #             else:\n",
    "    #                 basicos_forecast[mes] = 0\n"
   ]
  },
  {
   "cell_type": "code",
   "execution_count": 27,
   "metadata": {},
   "outputs": [],
   "source": [
    "basicos_individual = basicos[(basicos['Mundo'] == 'NIÑA' ) &\n",
    "                                        (basicos['Tipo de Artículo'] == 'CAMISA MANGA LARGA')]\n",
    "basicos_individual2 = basicos_individual.groupby(['MES', 'AÑO'])[\n",
    "        'UNIDADES'].sum().to_frame().sort_values(by=['AÑO', 'MES']).reset_index()\n",
    "\n",
    "\n",
    "basicos_individual2['MES_AÑO'] = pd.to_datetime(basicos_individual2['AÑO'].astype(str) + \n",
    "                            '-' + basicos_individual2['MES'].astype(str)).dt.strftime('%Y-%m')"
   ]
  },
  {
   "cell_type": "code",
   "execution_count": 28,
   "metadata": {},
   "outputs": [],
   "source": [
    "df_model = pd.concat([basicos_individual2,test_df], axis=0, ignore_index=True)\n",
    "\n",
    "meses_basicos = [1,2,3,4,5,6,7,8,9,10,11,12]\n",
    "basicos_forecast = {}\n",
    "\n",
    "basicos_individual2['MES'] = pd.to_datetime(basicos_individual2['MES_AÑO']).dt.month\n",
    "\n",
    "basicos_results = pd.DataFrame()\n",
    "\n",
    "for mes in meses_basicos:\n",
    "    if mes in basicos_individual2['MES'].unique():\n",
    "        basicos_results = pd.concat([basicos_results, XGB_model(df_model[df_model['MES'] == mes])])\n",
    "    else:\n",
    "        basicos_forecast[mes] = 0\n",
    "        basicos_results = pd.concat([basicos_results, pd.DataFrame.from_dict({'MES_AÑO': [(mes)], 'UNIDADES': [0]}).set_index('MES_AÑO')])\n",
    "        "
   ]
  },
  {
   "cell_type": "code",
   "execution_count": 29,
   "metadata": {},
   "outputs": [
    {
     "data": {
      "text/plain": [
       "NIÑO          878895\n",
       "BEBÉ NIÑO     746289\n",
       "NIÑA          596479\n",
       "BEBÉ NIÑA     466108\n",
       "PRIMI NIÑO    286980\n",
       "PRIMI NIÑA    218397\n",
       "OTROS          27016\n",
       "Name: Mundo, dtype: int64"
      ]
     },
     "execution_count": 29,
     "metadata": {},
     "output_type": "execute_result"
    }
   ],
   "source": [
    "basicos.Mundo.value_counts()"
   ]
  },
  {
   "cell_type": "code",
   "execution_count": 32,
   "metadata": {},
   "outputs": [
    {
     "ename": "TypeError",
     "evalue": "'<' not supported between instances of 'int' and 'Timestamp'",
     "output_type": "error",
     "traceback": [
      "\u001b[1;31m---------------------------------------------------------------------------\u001b[0m",
      "\u001b[1;31mTypeError\u001b[0m                                 Traceback (most recent call last)",
      "\u001b[1;32mc:\\Users\\HELENAMM\\OneDrive - offcorss.com\\OC Magic Data\\Proyecto pronostico\\Modelos fase 2\\Modelo_fase_final.ipynb Cell 30\u001b[0m in \u001b[0;36m5\n\u001b[0;32m     <a href='vscode-notebook-cell:/c%3A/Users/HELENAMM/OneDrive%20-%20offcorss.com/OC%20Magic%20Data/Proyecto%20pronostico/Modelos%20fase%202/Modelo_fase_final.ipynb#X41sZmlsZQ%3D%3D?line=50'>51</a>\u001b[0m basicos_results2[\u001b[39m'\u001b[39m\u001b[39mtipo\u001b[39m\u001b[39m'\u001b[39m] \u001b[39m=\u001b[39m tipo\n\u001b[0;32m     <a href='vscode-notebook-cell:/c%3A/Users/HELENAMM/OneDrive%20-%20offcorss.com/OC%20Magic%20Data/Proyecto%20pronostico/Modelos%20fase%202/Modelo_fase_final.ipynb#X41sZmlsZQ%3D%3D?line=51'>52</a>\u001b[0m basicos_results2[\u001b[39m'\u001b[39m\u001b[39mcv\u001b[39m\u001b[39m'\u001b[39m] \u001b[39m=\u001b[39m calcular_Cv(basicos_individual2)\n\u001b[1;32m---> <a href='vscode-notebook-cell:/c%3A/Users/HELENAMM/OneDrive%20-%20offcorss.com/OC%20Magic%20Data/Proyecto%20pronostico/Modelos%20fase%202/Modelo_fase_final.ipynb#X41sZmlsZQ%3D%3D?line=52'>53</a>\u001b[0m basicos_results2 \u001b[39m=\u001b[39m basicos_results2\u001b[39m.\u001b[39;49msort_values(by\u001b[39m=\u001b[39;49m\u001b[39m'\u001b[39;49m\u001b[39mMES_AÑO\u001b[39;49m\u001b[39m'\u001b[39;49m)\n\u001b[0;32m     <a href='vscode-notebook-cell:/c%3A/Users/HELENAMM/OneDrive%20-%20offcorss.com/OC%20Magic%20Data/Proyecto%20pronostico/Modelos%20fase%202/Modelo_fase_final.ipynb#X41sZmlsZQ%3D%3D?line=54'>55</a>\u001b[0m \u001b[39mif\u001b[39;00m(\u001b[39mlen\u001b[39m(basicos_results)\u001b[39m>\u001b[39m \u001b[39m10\u001b[39m):\n\u001b[0;32m     <a href='vscode-notebook-cell:/c%3A/Users/HELENAMM/OneDrive%20-%20offcorss.com/OC%20Magic%20Data/Proyecto%20pronostico/Modelos%20fase%202/Modelo_fase_final.ipynb#X41sZmlsZQ%3D%3D?line=55'>56</a>\u001b[0m     basicos_results_final \u001b[39m=\u001b[39m  basicos_results_final\u001b[39m.\u001b[39mappend(basicos_results2, ignore_index\u001b[39m=\u001b[39m \u001b[39mTrue\u001b[39;00m)\n",
      "File \u001b[1;32m~\\AppData\\Local\\Packages\\PythonSoftwareFoundation.Python.3.10_qbz5n2kfra8p0\\LocalCache\\local-packages\\Python310\\site-packages\\pandas\\util\\_decorators.py:331\u001b[0m, in \u001b[0;36mdeprecate_nonkeyword_arguments.<locals>.decorate.<locals>.wrapper\u001b[1;34m(*args, **kwargs)\u001b[0m\n\u001b[0;32m    325\u001b[0m \u001b[39mif\u001b[39;00m \u001b[39mlen\u001b[39m(args) \u001b[39m>\u001b[39m num_allow_args:\n\u001b[0;32m    326\u001b[0m     warnings\u001b[39m.\u001b[39mwarn(\n\u001b[0;32m    327\u001b[0m         msg\u001b[39m.\u001b[39mformat(arguments\u001b[39m=\u001b[39m_format_argument_list(allow_args)),\n\u001b[0;32m    328\u001b[0m         \u001b[39mFutureWarning\u001b[39;00m,\n\u001b[0;32m    329\u001b[0m         stacklevel\u001b[39m=\u001b[39mfind_stack_level(),\n\u001b[0;32m    330\u001b[0m     )\n\u001b[1;32m--> 331\u001b[0m \u001b[39mreturn\u001b[39;00m func(\u001b[39m*\u001b[39margs, \u001b[39m*\u001b[39m\u001b[39m*\u001b[39mkwargs)\n",
      "File \u001b[1;32m~\\AppData\\Local\\Packages\\PythonSoftwareFoundation.Python.3.10_qbz5n2kfra8p0\\LocalCache\\local-packages\\Python310\\site-packages\\pandas\\core\\frame.py:6912\u001b[0m, in \u001b[0;36mDataFrame.sort_values\u001b[1;34m(self, by, axis, ascending, inplace, kind, na_position, ignore_index, key)\u001b[0m\n\u001b[0;32m   6909\u001b[0m     \u001b[39mif\u001b[39;00m \u001b[39misinstance\u001b[39m(ascending, (\u001b[39mtuple\u001b[39m, \u001b[39mlist\u001b[39m)):\n\u001b[0;32m   6910\u001b[0m         ascending \u001b[39m=\u001b[39m ascending[\u001b[39m0\u001b[39m]\n\u001b[1;32m-> 6912\u001b[0m     indexer \u001b[39m=\u001b[39m nargsort(\n\u001b[0;32m   6913\u001b[0m         k, kind\u001b[39m=\u001b[39;49mkind, ascending\u001b[39m=\u001b[39;49mascending, na_position\u001b[39m=\u001b[39;49mna_position, key\u001b[39m=\u001b[39;49mkey\n\u001b[0;32m   6914\u001b[0m     )\n\u001b[0;32m   6915\u001b[0m \u001b[39melse\u001b[39;00m:\n\u001b[0;32m   6916\u001b[0m     \u001b[39mreturn\u001b[39;00m \u001b[39mself\u001b[39m\u001b[39m.\u001b[39mcopy()\n",
      "File \u001b[1;32m~\\AppData\\Local\\Packages\\PythonSoftwareFoundation.Python.3.10_qbz5n2kfra8p0\\LocalCache\\local-packages\\Python310\\site-packages\\pandas\\core\\sorting.py:438\u001b[0m, in \u001b[0;36mnargsort\u001b[1;34m(items, kind, ascending, na_position, key, mask)\u001b[0m\n\u001b[0;32m    436\u001b[0m     non_nans \u001b[39m=\u001b[39m non_nans[::\u001b[39m-\u001b[39m\u001b[39m1\u001b[39m]\n\u001b[0;32m    437\u001b[0m     non_nan_idx \u001b[39m=\u001b[39m non_nan_idx[::\u001b[39m-\u001b[39m\u001b[39m1\u001b[39m]\n\u001b[1;32m--> 438\u001b[0m indexer \u001b[39m=\u001b[39m non_nan_idx[non_nans\u001b[39m.\u001b[39;49margsort(kind\u001b[39m=\u001b[39;49mkind)]\n\u001b[0;32m    439\u001b[0m \u001b[39mif\u001b[39;00m \u001b[39mnot\u001b[39;00m ascending:\n\u001b[0;32m    440\u001b[0m     indexer \u001b[39m=\u001b[39m indexer[::\u001b[39m-\u001b[39m\u001b[39m1\u001b[39m]\n",
      "\u001b[1;31mTypeError\u001b[0m: '<' not supported between instances of 'int' and 'Timestamp'"
     ]
    }
   ],
   "source": [
    "basicos_results = pd.DataFrame()\n",
    "basicos_results_final = pd.DataFrame()\n",
    "c = 0\n",
    "\n",
    "mundos = ['NIÑA','NIÑO','BEBÉ NIÑO','BEBÉ NIÑA','PRIMI NIÑO','PRIMI NIÑA']\n",
    "tipos = ['SANDALIA','VESTIDO MANGA LARGA','CAMISA MANGA LARGA','OVERALL CORTO', 'OVERALL CORTO','DENIM']\n",
    "\n",
    "\n",
    "for mundo in mundos:\n",
    "# for mundo in basicos['Mundo'].unique():\n",
    "    output_file = f\"basicos_resultados_{mundo}.xlsx\"\n",
    "    basicos_results_final = pd.DataFrame()\n",
    "    for tipo in basicos['Tipo de Artículo'].unique():\n",
    "\n",
    "    # for tipo in tipos:\n",
    "\n",
    "        basicos_individual = basicos[(basicos['Mundo'] == mundo ) &\n",
    "                                        (basicos['Tipo de Artículo'] == tipo)]\n",
    "\n",
    "\n",
    "        basicos_individual2 = basicos_individual.groupby(['MES', 'AÑO'])[\n",
    "        'UNIDADES'].sum().to_frame().sort_values(by=['AÑO', 'MES']).reset_index()\n",
    "\n",
    "\n",
    "        basicos_individual2['MES_AÑO'] = pd.to_datetime(basicos_individual2['AÑO'].astype(str) + \n",
    "                                    '-' + basicos_individual2['MES'].astype(str))#.dt.strftime('%Y-%m')\n",
    "        \n",
    "        if(len(basicos_individual2) >= 15):\n",
    "\n",
    "            df_model = pd.concat([basicos_individual2,test_df], axis=0, ignore_index=True)\n",
    "    \n",
    "            meses_basicos = [1,2,3,4,5,6,7,8,9,10,11,12]\n",
    "            basicos_forecast = {}\n",
    "\n",
    "            basicos_individual2['MES'] = pd.to_datetime(basicos_individual2['MES_AÑO']).dt.month\n",
    "            \n",
    "            # basicos_results = pd.concat([basicos_results, XGB_model(df_model)])\n",
    "\n",
    "            for mes in meses_basicos:\n",
    "                if mes in basicos_individual2['MES'].unique():\n",
    "                    basicos_results = pd.concat([basicos_results, XGB_model(df_model[df_model['MES'] == mes])])\n",
    "                else:\n",
    "                    basicos_forecast[mes] = 0\n",
    "                    basicos_results = pd.concat([basicos_results, pd.DataFrame.from_dict({'MES_AÑO': [mes], 'UNIDADES': [0]}).set_index('MES_AÑO')])\n",
    "\n",
    "            basicos_results2 = basicos_results.reset_index()\n",
    "            \n",
    "            \n",
    "            # basicos_results2['MES_AÑO'] = pd.to_datetime(basicos_results2['MES_AÑO'].astype(str))#.dt.strftime('%Y-%m')\n",
    "            basicos_results2['mundo'] = mundo\n",
    "            basicos_results2['tipo'] = tipo\n",
    "            basicos_results2['cv'] = calcular_Cv(basicos_individual2)\n",
    "            basicos_results2 = basicos_results2.sort_values(by='MES_AÑO')\n",
    "                        \n",
    "            if(len(basicos_results)> 10):\n",
    "                basicos_results_final =  basicos_results_final.append(basicos_results2, ignore_index= True)\n",
    "                # print(basicos_results_final.columns,basicos_results_final.index)\n",
    "                basicos_results = pd.DataFrame()\n",
    "\n",
    "        else:\n",
    "            continue\n",
    "\n",
    "        with pd.ExcelWriter(output_file) as writer:\n",
    "            basicos_results_final.to_excel(writer, sheet_name=mundo, index=False)\n",
    "    # data_frame2.to_excel(writer, sheet_name=\"Vegetables\", index=False)\n",
    "    # data_frame3.to_excel(writer, sheet_name=\"Baked Items\", index=False)"
   ]
  },
  {
   "cell_type": "code",
   "execution_count": null,
   "metadata": {},
   "outputs": [],
   "source": [
    "basicos_results_final.to_excel('BASICOS_NIÑA.xslx')"
   ]
  },
  {
   "cell_type": "code",
   "execution_count": null,
   "metadata": {},
   "outputs": [],
   "source": [
    "Ñ"
   ]
  },
  {
   "cell_type": "code",
   "execution_count": null,
   "metadata": {},
   "outputs": [],
   "source": [
    "basicos_results"
   ]
  },
  {
   "cell_type": "code",
   "execution_count": null,
   "metadata": {},
   "outputs": [],
   "source": [
    "basicos_individual2['MES_AÑO'] = pd.to_datetime(basicos_individual2['MES_AÑO'])\n",
    "basicos_individual2[['MES_AÑO','UNIDADES']]"
   ]
  },
  {
   "cell_type": "code",
   "execution_count": null,
   "metadata": {},
   "outputs": [],
   "source": [
    "results = basicos_individual2[['MES_AÑO','UNIDADES']].merge(\n",
    "    basicos_results.reset_index().rename(columns={'UNIDADES':'FORECAST'}),\n",
    "    on= 'MES_AÑO'\n",
    ")"
   ]
  },
  {
   "cell_type": "code",
   "execution_count": null,
   "metadata": {},
   "outputs": [],
   "source": [
    "results['diferencia'] = np.ceil(abs(results['UNIDADES']- results['FORECAST']))"
   ]
  },
  {
   "cell_type": "code",
   "execution_count": null,
   "metadata": {},
   "outputs": [],
   "source": [
    "from sklearn.metrics import mean_absolute_percentage_error as MAPE\n",
    "print('MAPE ES  ..............',   round(MAPE(results['UNIDADES'], results['FORECAST']),2))"
   ]
  },
  {
   "cell_type": "code",
   "execution_count": null,
   "metadata": {},
   "outputs": [],
   "source": [
    "results"
   ]
  },
  {
   "cell_type": "code",
   "execution_count": null,
   "metadata": {},
   "outputs": [],
   "source": [
    "results.set_index('MES_AÑO').plot()"
   ]
  }
 ],
 "metadata": {
  "kernelspec": {
   "display_name": "Python 3",
   "language": "python",
   "name": "python3"
  },
  "language_info": {
   "codemirror_mode": {
    "name": "ipython",
    "version": 3
   },
   "file_extension": ".py",
   "mimetype": "text/x-python",
   "name": "python",
   "nbconvert_exporter": "python",
   "pygments_lexer": "ipython3",
   "version": "3.10.11"
  },
  "orig_nbformat": 4
 },
 "nbformat": 4,
 "nbformat_minor": 2
}
