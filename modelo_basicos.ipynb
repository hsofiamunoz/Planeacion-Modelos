{
 "cells": [
  {
   "attachments": {},
   "cell_type": "markdown",
   "metadata": {},
   "source": [
    "### Librerias"
   ]
  },
  {
   "cell_type": "code",
   "execution_count": 1,
   "metadata": {},
   "outputs": [],
   "source": [
    "import pandas as pd\n",
    "import numpy as np\n",
    "import matplotlib.pyplot as plt\n",
    "import seaborn as sns\n",
    "import math\n",
    "from datetime import date, time, datetime\n",
    "import plotly.express as px\n",
    "import plotly.graph_objects as go\n",
    "from plotly.subplots import make_subplots\n",
    "\n",
    "from hdbcli import dbapi as db\n",
    "\n",
    "from statsmodels.tsa.api import STLForecast, ExponentialSmoothing, ExponentialSmoothing\n",
    "\n",
    "from sklearn.metrics import mean_squared_error as MSE\n",
    "from sklearn.metrics import mean_absolute_percentage_error as MAPE\n",
    "from sklearn.metrics import r2_score\n",
    "\n",
    "from statsmodels.tsa.api import STLForecast, ExponentialSmoothing, ETSModel\n",
    "\n",
    "import warnings\n",
    "warnings.filterwarnings('ignore')\n",
    "\n",
    "from prophet import Prophet\n",
    "\n",
    "import xgboost as xgb\n",
    "from xgboost import plot_importance, plot_tree\n",
    "from sklearn.metrics import mean_squared_error, mean_absolute_error\n",
    "from sklearn.model_selection import train_test_split\n",
    "from sklearn.metrics import precision_recall_fscore_support as score\n",
    "\n",
    "from sklearn.model_selection import GridSearchCV\n",
    "from xgboost import XGBRegressor\n",
    "\n",
    "from pmdarima.arima import auto_arima\n",
    "from statsmodels.tsa.api import STLForecast\n",
    "from statsmodels.tsa.arima.model import ARIMA\n",
    "\n",
    "\n",
    "import pandas as pd\n",
    "import smtplib\n",
    "from email.mime.text import MIMEText\n",
    "from email.mime.multipart import MIMEMultipart\n",
    "from email.mime.application import MIMEApplication\n",
    "from openpyxl import Workbook\n",
    "\n",
    "import pandas as pd\n",
    "import smtplib\n",
    "from email.mime.text import MIMEText\n",
    "from email.mime.multipart import MIMEMultipart\n",
    "from email.mime.application import MIMEApplication\n",
    "from openpyxl import Workbook\n",
    "\n",
    "from dateutil.relativedelta import relativedelta"
   ]
  },
  {
   "attachments": {},
   "cell_type": "markdown",
   "metadata": {},
   "source": [
    "### Base de datos"
   ]
  },
  {
   "cell_type": "code",
   "execution_count": 2,
   "metadata": {},
   "outputs": [],
   "source": [
    "conn = db.connect(address='10.0.0.110', port='30015', user='DESARROLLO', password='DevHermeco.2022')\n",
    "cursor = conn.cursor()\n",
    "sql ='''SELECT \"AÑO\",\n",
    "\"CANAL\",\n",
    "\"MES\",\n",
    "\"MATERIAL\",\n",
    "\"AFS: COLOR\",\n",
    "\"AFS: TALLA\", \n",
    "\"UNIDADES\", \n",
    "\"Sublínea\",\n",
    "\"Mundo\",\n",
    "\"Tipo de Artículo\", \n",
    "\"Concepto Diseño\",\n",
    "\"Año de Venta\", \n",
    "\"Mes de Venta\", \n",
    "\"FECHA VENTA\"\n",
    "FROM HEP300.VW_CD_REPORTE_VENTAS_ALL_2016 \\\n",
    "WHERE(CANAL = 'FRANQUICIAS' OR CANAL = 'TIENDAS PROPIAS')\n",
    "AND \"AÑO\" >= 2018\n",
    "'''\n",
    "df_canal = pd.read_sql_query(sql, conn)"
   ]
  },
  {
   "cell_type": "code",
   "execution_count": null,
   "metadata": {},
   "outputs": [],
   "source": [
    "ñ"
   ]
  },
  {
   "cell_type": "code",
   "execution_count": 3,
   "metadata": {},
   "outputs": [],
   "source": [
    "def XGB_model(df_model):\n",
    "    # Fechas forecast\n",
    "    fecha_inicial = '2023-03'\n",
    "    fecha_final = '2024-02'\n",
    "    \n",
    "    df_model.MES_AÑO = pd.to_datetime(df_model.MES_AÑO)\n",
    "    \n",
    "    #  TRAIN & TEST\n",
    "    train = df_model.loc[df_model.MES_AÑO < pd.to_datetime(fecha_inicial)].set_index('MES_AÑO')\n",
    "\n",
    "    test = df_model.loc[(df_model.MES_AÑO >= pd.to_datetime(fecha_inicial)) & \n",
    "                        (df_model.MES_AÑO < pd.to_datetime(fecha_final))].set_index('MES_AÑO')\n",
    "\n",
    "\n",
    "    # Define el train y test de acuerdo con las bases de datos de train y de test\n",
    "    X_train, y_train = create_features_mes_venta(train, label = 'UNIDADES')\n",
    "    X_test, y_test = create_features_mes_venta(test, label = 'UNIDADES')\n",
    "\n",
    "    reg = xgb.XGBRegressor(base_score=0.5, booster='gbtree',    \n",
    "                           n_estimators = 1000,\n",
    "                           early_stopping_rounds=50,\n",
    "                           objective='reg:squarederror',\n",
    "                           max_depth=3,\n",
    "                           learning_rate=0.01,\n",
    "                           eval_metric = ['rmse','mae','mape']\n",
    "                           )\n",
    "    \n",
    "    reg.fit(X_train,y_train,\n",
    "        eval_set=[(X_train, y_train), (X_test, y_test)],\n",
    "        verbose = False)\n",
    "\n",
    "    pred_test = reg.predict(X_test)\n",
    "    test['UNIDADES'] = np.ceil(pred_test)\n",
    "\n",
    "    \n",
    "    return test[['UNIDADES']]"
   ]
  },
  {
   "cell_type": "code",
   "execution_count": 4,
   "metadata": {},
   "outputs": [],
   "source": [
    "def xgb_mes_a_mes(basicos1):\n",
    "    meses_basicos = [1,2,3,4,5,6,7,8,9,10,11,12]\n",
    "    basicos_forecast = {}\n",
    "\n",
    "    basicos_results = pd.DataFrame()\n",
    "    basicos1['MES'] = pd.to_datetime(basicos1['MES_AÑO']).dt.month\n",
    "\n",
    "    for mes in meses_basicos:\n",
    "        if mes in basicos1['MES'].unique():\n",
    "            basicos_results = pd.concat([basicos_results, XGB_model(basicos1[basicos1['MES'] == mes])])\n",
    "            \n",
    "        else:\n",
    "            basicos_forecast[mes] = 0\n",
    "\n",
    "    return basicos_results"
   ]
  },
  {
   "cell_type": "code",
   "execution_count": 5,
   "metadata": {},
   "outputs": [],
   "source": [
    "def calcular_Cv(basicos1):\n",
    "    basicos_clasificacion = pd.DataFrame()\n",
    "    meses = basicos1.MES.unique()\n",
    "    # meses = [1, 2, 3, 4, 5, 6, 7, 8, 9, 10, 11, 12]\n",
    "\n",
    "    # Calcular el factor CV para cada mes\n",
    "    cv_mes = {}\n",
    "    for mes in meses:\n",
    "        if mes in basicos1['MES'].unique():\n",
    "            cv_mes[mes] = round(basicos1[basicos1['MES'] == mes]['UNIDADES'].std()\n",
    "                                / basicos1[basicos1['MES'] == mes]['UNIDADES'].mean(), 2)\n",
    "        # else:\n",
    "        #     cv_mes[mes] = 0\n",
    "\n",
    "\n",
    "    lista_cv = []\n",
    "    for i in cv_mes.values():\n",
    "        lista_cv.append(i)\n",
    "    \n",
    "    coeficiente_Var = np.std(lista_cv)/np.mean(lista_cv)\n",
    "\n",
    "    return round(coeficiente_Var,2)\n"
   ]
  },
  {
   "cell_type": "code",
   "execution_count": 6,
   "metadata": {},
   "outputs": [],
   "source": [
    "basicos = df_canal[df_canal['Concepto Diseño']== 'BASICOS']"
   ]
  },
  {
   "attachments": {},
   "cell_type": "markdown",
   "metadata": {},
   "source": [
    "### Ejemplo"
   ]
  },
  {
   "cell_type": "code",
   "execution_count": 7,
   "metadata": {},
   "outputs": [
    {
     "data": {
      "text/html": [
       "<div>\n",
       "<style scoped>\n",
       "    .dataframe tbody tr th:only-of-type {\n",
       "        vertical-align: middle;\n",
       "    }\n",
       "\n",
       "    .dataframe tbody tr th {\n",
       "        vertical-align: top;\n",
       "    }\n",
       "\n",
       "    .dataframe thead th {\n",
       "        text-align: right;\n",
       "    }\n",
       "</style>\n",
       "<table border=\"1\" class=\"dataframe\">\n",
       "  <thead>\n",
       "    <tr style=\"text-align: right;\">\n",
       "      <th></th>\n",
       "      <th>AÑO</th>\n",
       "      <th>CANAL</th>\n",
       "      <th>MES</th>\n",
       "      <th>MATERIAL</th>\n",
       "      <th>AFS: COLOR</th>\n",
       "      <th>AFS: TALLA</th>\n",
       "      <th>UNIDADES</th>\n",
       "      <th>Sublínea</th>\n",
       "      <th>Mundo</th>\n",
       "      <th>Tipo de Artículo</th>\n",
       "      <th>Concepto Diseño</th>\n",
       "      <th>Año de Venta</th>\n",
       "      <th>Mes de Venta</th>\n",
       "      <th>FECHA VENTA</th>\n",
       "    </tr>\n",
       "  </thead>\n",
       "  <tbody>\n",
       "    <tr>\n",
       "      <th>672573</th>\n",
       "      <td>2018</td>\n",
       "      <td>TIENDAS PROPIAS</td>\n",
       "      <td>8</td>\n",
       "      <td>5204453</td>\n",
       "      <td>Rosado 12-1310</td>\n",
       "      <td>10</td>\n",
       "      <td>1.0</td>\n",
       "      <td>BASICOS</td>\n",
       "      <td>NIÑA</td>\n",
       "      <td>CAMISA MANGA LARGA</td>\n",
       "      <td>BASICOS</td>\n",
       "      <td>2018</td>\n",
       "      <td>FEBRERO</td>\n",
       "      <td>2018-08-25</td>\n",
       "    </tr>\n",
       "    <tr>\n",
       "      <th>672574</th>\n",
       "      <td>2018</td>\n",
       "      <td>TIENDAS PROPIAS</td>\n",
       "      <td>3</td>\n",
       "      <td>5204453</td>\n",
       "      <td>Rosado 12-1310</td>\n",
       "      <td>10</td>\n",
       "      <td>1.0</td>\n",
       "      <td>BASICOS</td>\n",
       "      <td>NIÑA</td>\n",
       "      <td>CAMISA MANGA LARGA</td>\n",
       "      <td>BASICOS</td>\n",
       "      <td>2018</td>\n",
       "      <td>FEBRERO</td>\n",
       "      <td>2018-03-26</td>\n",
       "    </tr>\n",
       "  </tbody>\n",
       "</table>\n",
       "</div>"
      ],
      "text/plain": [
       "         AÑO            CANAL  MES MATERIAL      AFS: COLOR AFS: TALLA  \\\n",
       "672573  2018  TIENDAS PROPIAS    8  5204453  Rosado 12-1310         10   \n",
       "672574  2018  TIENDAS PROPIAS    3  5204453  Rosado 12-1310         10   \n",
       "\n",
       "        UNIDADES Sublínea Mundo    Tipo de Artículo Concepto Diseño  \\\n",
       "672573       1.0  BASICOS  NIÑA  CAMISA MANGA LARGA         BASICOS   \n",
       "672574       1.0  BASICOS  NIÑA  CAMISA MANGA LARGA         BASICOS   \n",
       "\n",
       "       Año de Venta Mes de Venta FECHA VENTA  \n",
       "672573         2018      FEBRERO  2018-08-25  \n",
       "672574         2018      FEBRERO  2018-03-26  "
      ]
     },
     "execution_count": 7,
     "metadata": {},
     "output_type": "execute_result"
    }
   ],
   "source": [
    "basicos_individual = basicos[(basicos['Mundo'] == 'NIÑA' ) &\n",
    "                                        (basicos['Tipo de Artículo'] == 'CAMISA MANGA LARGA')]\n",
    "\n",
    "basicos_individual.head(2)"
   ]
  },
  {
   "attachments": {},
   "cell_type": "markdown",
   "metadata": {},
   "source": [
    "#### MODELO LINEAL"
   ]
  },
  {
   "cell_type": "code",
   "execution_count": 8,
   "metadata": {},
   "outputs": [],
   "source": [
    "basicos_individual['FECHA'] = pd.to_datetime(basicos_individual['FECHA VENTA']).dt.to_period('M')"
   ]
  },
  {
   "cell_type": "code",
   "execution_count": 9,
   "metadata": {},
   "outputs": [],
   "source": [
    "# HISTORICO\n",
    "df_model = basicos_individual.groupby('FECHA')['UNIDADES'].sum().reset_index()"
   ]
  },
  {
   "cell_type": "code",
   "execution_count": 10,
   "metadata": {},
   "outputs": [],
   "source": [
    "# convert period to timestamp\n",
    "df_model['FECHA'] = df_model['FECHA'].apply(lambda x: x.to_timestamp())\n",
    "# assign covid column\n",
    "df_model['covid'] = [1 if ((x > pd.Timestamp('2020-03')) & (x < pd.Timestamp('2021-03'))) else 0 for x in df_model.FECHA]\n"
   ]
  },
  {
   "cell_type": "code",
   "execution_count": 11,
   "metadata": {},
   "outputs": [],
   "source": [
    "df_model['month'] = df_model['FECHA'].dt.month\n",
    "df_model['year'] = df_model['FECHA'].dt.year\n",
    "\n",
    "\n",
    "# Define the features and target variable\n",
    "X = df_model.drop(['UNIDADES','FECHA'], axis=1)\n",
    "y = df_model['UNIDADES']"
   ]
  },
  {
   "cell_type": "code",
   "execution_count": 12,
   "metadata": {},
   "outputs": [],
   "source": [
    "#  Split the data into training and testing sets\n",
    "split_Date_test = '2022-11-01'\n",
    "\n",
    "train_size = df_model.loc[df_model['FECHA'] >= split_Date_test].index[0]\n",
    "X_train, X_test = X[:train_size], X[train_size:]\n",
    "y_train, y_test = y[:train_size], y[train_size:]"
   ]
  },
  {
   "cell_type": "code",
   "execution_count": 13,
   "metadata": {},
   "outputs": [],
   "source": [
    "tuned_parameters = {\n",
    "        'max_depth': [3, 6, 10],\n",
    "        'learning_rate': [0.01, 0.05, 0.1],\n",
    "        'n_estimators': [100, 500, 1000],\n",
    "        'base_score': [0.1, 0.3, 0.5],\n",
    "        'eval_metric': ['rmse', 'mae', 'mape']\n",
    "    }\n",
    "# xgbr = XGBRegressor(learning_rate=0.3, max_depth=6, n_estimators=100,subsample=0.8)\n",
    "# clf = GridSearchCV(xgbr, param_grid = tuned_parameters, cv = 5)\n",
    "# clf.fit(X_train, y_train)"
   ]
  },
  {
   "cell_type": "code",
   "execution_count": 14,
   "metadata": {},
   "outputs": [
    {
     "data": {
      "text/plain": [
       "XGBRegressor(base_score=0.5, booster='gbtree', callbacks=None,\n",
       "             colsample_bylevel=1, colsample_bynode=1, colsample_bytree=1,\n",
       "             early_stopping_rounds=None, enable_categorical=False,\n",
       "             eval_metric=['rmse', 'mae', 'mape'], feature_types=None, gamma=0,\n",
       "             gpu_id=-1, grow_policy='depthwise', importance_type=None,\n",
       "             interaction_constraints='', learning_rate=0.01, max_bin=256,\n",
       "             max_cat_threshold=64, max_cat_to_onehot=4, max_delta_step=0,\n",
       "             max_depth=3, max_leaves=0, min_child_weight=1, missing=nan,\n",
       "             monotone_constraints='()', n_estimators=1000, n_jobs=0,\n",
       "             num_parallel_tree=1, predictor='auto', random_state=0, ...)"
      ]
     },
     "execution_count": 14,
     "metadata": {},
     "output_type": "execute_result"
    }
   ],
   "source": [
    "xg_reg = xgb.XGBRegressor(base_score=0.5, booster='gbtree',    \n",
    "                        n_estimators = 1000,\n",
    "                        objective='reg:squarederror',\n",
    "                        max_depth=3,\n",
    "                        learning_rate=0.01,\n",
    "                        eval_metric = ['rmse','mae','mape']\n",
    "                        )\n",
    "\n",
    "# Fit the model to the training data\n",
    "xg_reg.fit(X_train,y_train)"
   ]
  },
  {
   "cell_type": "code",
   "execution_count": 15,
   "metadata": {},
   "outputs": [],
   "source": [
    "test = df_model.loc[df_model['FECHA'] >= split_Date_test]\n",
    "test['forecast'] = np.ceil(xg_reg.predict(X_test))"
   ]
  },
  {
   "cell_type": "code",
   "execution_count": 16,
   "metadata": {},
   "outputs": [
    {
     "name": "stdout",
     "output_type": "stream",
     "text": [
      "R^2      .............. 0.4\n",
      "MAPE ES  .............. 1.5\n"
     ]
    },
    {
     "data": {
      "text/html": [
       "<div>\n",
       "<style scoped>\n",
       "    .dataframe tbody tr th:only-of-type {\n",
       "        vertical-align: middle;\n",
       "    }\n",
       "\n",
       "    .dataframe tbody tr th {\n",
       "        vertical-align: top;\n",
       "    }\n",
       "\n",
       "    .dataframe thead th {\n",
       "        text-align: right;\n",
       "    }\n",
       "</style>\n",
       "<table border=\"1\" class=\"dataframe\">\n",
       "  <thead>\n",
       "    <tr style=\"text-align: right;\">\n",
       "      <th></th>\n",
       "      <th>FECHA</th>\n",
       "      <th>UNIDADES</th>\n",
       "      <th>covid</th>\n",
       "      <th>month</th>\n",
       "      <th>year</th>\n",
       "      <th>forecast</th>\n",
       "    </tr>\n",
       "  </thead>\n",
       "  <tbody>\n",
       "    <tr>\n",
       "      <th>57</th>\n",
       "      <td>2022-11-01</td>\n",
       "      <td>134.0</td>\n",
       "      <td>0</td>\n",
       "      <td>11</td>\n",
       "      <td>2022</td>\n",
       "      <td>108.0</td>\n",
       "    </tr>\n",
       "    <tr>\n",
       "      <th>58</th>\n",
       "      <td>2022-12-01</td>\n",
       "      <td>350.0</td>\n",
       "      <td>0</td>\n",
       "      <td>12</td>\n",
       "      <td>2022</td>\n",
       "      <td>128.0</td>\n",
       "    </tr>\n",
       "    <tr>\n",
       "      <th>59</th>\n",
       "      <td>2023-01-01</td>\n",
       "      <td>13.0</td>\n",
       "      <td>0</td>\n",
       "      <td>1</td>\n",
       "      <td>2023</td>\n",
       "      <td>15.0</td>\n",
       "    </tr>\n",
       "    <tr>\n",
       "      <th>60</th>\n",
       "      <td>2023-02-01</td>\n",
       "      <td>3.0</td>\n",
       "      <td>0</td>\n",
       "      <td>2</td>\n",
       "      <td>2023</td>\n",
       "      <td>13.0</td>\n",
       "    </tr>\n",
       "    <tr>\n",
       "      <th>61</th>\n",
       "      <td>2023-03-01</td>\n",
       "      <td>5.0</td>\n",
       "      <td>0</td>\n",
       "      <td>3</td>\n",
       "      <td>2023</td>\n",
       "      <td>21.0</td>\n",
       "    </tr>\n",
       "    <tr>\n",
       "      <th>62</th>\n",
       "      <td>2023-04-01</td>\n",
       "      <td>2.0</td>\n",
       "      <td>0</td>\n",
       "      <td>4</td>\n",
       "      <td>2023</td>\n",
       "      <td>52.0</td>\n",
       "    </tr>\n",
       "  </tbody>\n",
       "</table>\n",
       "</div>"
      ],
      "text/plain": [
       "        FECHA  UNIDADES  covid  month  year  forecast\n",
       "57 2022-11-01     134.0      0     11  2022     108.0\n",
       "58 2022-12-01     350.0      0     12  2022     128.0\n",
       "59 2023-01-01      13.0      0      1  2023      15.0\n",
       "60 2023-02-01       3.0      0      2  2023      13.0\n",
       "61 2023-03-01       5.0      0      3  2023      21.0\n",
       "62 2023-04-01       2.0      0      4  2023      52.0"
      ]
     },
     "execution_count": 16,
     "metadata": {},
     "output_type": "execute_result"
    }
   ],
   "source": [
    "y_test = test['UNIDADES'][:5]\n",
    "pred_test = test['forecast'][:5]\n",
    "\n",
    "print(\"R^2      ..............\",   round( r2_score(y_test, pred_test),1))\n",
    "print('MAPE ES  ..............',   round(MAPE(y_test, pred_test),2))\n",
    "test"
   ]
  },
  {
   "cell_type": "code",
   "execution_count": 17,
   "metadata": {},
   "outputs": [
    {
     "data": {
      "text/plain": [
       "<AxesSubplot: xlabel='FECHA'>"
      ]
     },
     "execution_count": 17,
     "metadata": {},
     "output_type": "execute_result"
    },
    {
     "data": {
      "image/png": "[encoded data removed]",
      "text/plain": [
       "<Figure size 640x480 with 1 Axes>"
      ]
     },
     "metadata": {},
     "output_type": "display_data"
    }
   ],
   "source": [
    "test.set_index('FECHA')[['UNIDADES', 'forecast']].plot()\n",
    "\n"
   ]
  },
  {
   "attachments": {},
   "cell_type": "markdown",
   "metadata": {},
   "source": [
    "#### MODELO MENSUAL 2022\n"
   ]
  },
  {
   "cell_type": "code",
   "execution_count": 18,
   "metadata": {},
   "outputs": [],
   "source": [
    "# la funcion recibe todas las columnas de DF como caracteristicas y elimina el target\n",
    "\n",
    "def create_features_mes_venta(df, label=None):\n",
    "\n",
    "    X = df.drop(columns=[label],axis=1)\n",
    "\n",
    "    if label:\n",
    "        y = df[label]\n",
    "\n",
    "        return X, y\n",
    "        \n",
    "    return X"
   ]
  },
  {
   "cell_type": "code",
   "execution_count": 19,
   "metadata": {},
   "outputs": [],
   "source": [
    "# MODELO PARA METRICAS\n",
    "# DF_MODEL_MONTH DEBE INCLUIR LAS SIGUIENTES COLUMNAS\n",
    "# MONTH, YEAR, COVID\n",
    "def XGB_model_2022(df_model_month, initial_Date=None):\n",
    "\n",
    "    # initial_Date = '2022-11-01'\n",
    "\n",
    "    # df_model_month = df_model_month.set_index('FECHA')\n",
    "    limit_month = '2022-06-01'\n",
    "\n",
    "    train_month = df_model_month.loc[df_model_month['FECHA'] < limit_month].set_index('FECHA')#.drop(columns={'FECHA'},axis=1)\n",
    "    test_month = df_model_month.loc[df_model_month['FECHA'] >= limit_month].set_index('FECHA')#.drop(columns={'FECHA'},axis=1)\n",
    "\n",
    "    X_train, y_train = create_features_mes_venta(train_month, label = 'UNIDADES')\n",
    "    X_test, y_test = create_features_mes_venta(test_month, label = 'UNIDADES')\n",
    "\n",
    "    xg_reg = xgb.XGBRegressor(base_score=0.5, booster='gbtree',    \n",
    "                        n_estimators = 1000,\n",
    "                        objective='reg:squarederror',\n",
    "                        max_depth=3,\n",
    "                        learning_rate=0.01,\n",
    "                        eval_metric = ['rmse','mae','mape']\n",
    "                        )\n",
    "\n",
    "    # Fit the model to the training data\n",
    "    xg_reg.fit(X_train,y_train)\n",
    "\n",
    "    test_month['forecast'] = np.ceil(xg_reg.predict(X_test))\n",
    "\n",
    "    return  test_month\n"
   ]
  },
  {
   "cell_type": "code",
   "execution_count": 20,
   "metadata": {},
   "outputs": [],
   "source": [
    "meses_basicos = [1,2,3,4,5,6,7,8,9,10,11,12]\n",
    "basicos_forecast = {}\n",
    "\n",
    "basicos_results = pd.DataFrame()\n",
    "\n",
    "for mes in meses_basicos:\n",
    "    if mes in df_model['month'].unique():\n",
    "        df_model2 = df_model.loc[df_model['month'] == mes]\n",
    "        basicos_results = pd.concat([basicos_results,XGB_model_2022(df_model[df_model['month'] == mes])])\n"
   ]
  },
  {
   "cell_type": "code",
   "execution_count": 21,
   "metadata": {},
   "outputs": [
    {
     "data": {
      "text/html": [
       "<div>\n",
       "<style scoped>\n",
       "    .dataframe tbody tr th:only-of-type {\n",
       "        vertical-align: middle;\n",
       "    }\n",
       "\n",
       "    .dataframe tbody tr th {\n",
       "        vertical-align: top;\n",
       "    }\n",
       "\n",
       "    .dataframe thead th {\n",
       "        text-align: right;\n",
       "    }\n",
       "</style>\n",
       "<table border=\"1\" class=\"dataframe\">\n",
       "  <thead>\n",
       "    <tr style=\"text-align: right;\">\n",
       "      <th></th>\n",
       "      <th>UNIDADES</th>\n",
       "      <th>covid</th>\n",
       "      <th>month</th>\n",
       "      <th>year</th>\n",
       "      <th>forecast</th>\n",
       "    </tr>\n",
       "    <tr>\n",
       "      <th>FECHA</th>\n",
       "      <th></th>\n",
       "      <th></th>\n",
       "      <th></th>\n",
       "      <th></th>\n",
       "      <th></th>\n",
       "    </tr>\n",
       "  </thead>\n",
       "  <tbody>\n",
       "    <tr>\n",
       "      <th>2023-01-01</th>\n",
       "      <td>13.0</td>\n",
       "      <td>0</td>\n",
       "      <td>1</td>\n",
       "      <td>2023</td>\n",
       "      <td>2.0</td>\n",
       "    </tr>\n",
       "    <tr>\n",
       "      <th>2023-02-01</th>\n",
       "      <td>3.0</td>\n",
       "      <td>0</td>\n",
       "      <td>2</td>\n",
       "      <td>2023</td>\n",
       "      <td>4.0</td>\n",
       "    </tr>\n",
       "    <tr>\n",
       "      <th>2023-03-01</th>\n",
       "      <td>5.0</td>\n",
       "      <td>0</td>\n",
       "      <td>3</td>\n",
       "      <td>2023</td>\n",
       "      <td>3.0</td>\n",
       "    </tr>\n",
       "    <tr>\n",
       "      <th>2023-04-01</th>\n",
       "      <td>2.0</td>\n",
       "      <td>0</td>\n",
       "      <td>4</td>\n",
       "      <td>2023</td>\n",
       "      <td>50.0</td>\n",
       "    </tr>\n",
       "    <tr>\n",
       "      <th>2022-06-01</th>\n",
       "      <td>107.0</td>\n",
       "      <td>0</td>\n",
       "      <td>6</td>\n",
       "      <td>2022</td>\n",
       "      <td>54.0</td>\n",
       "    </tr>\n",
       "    <tr>\n",
       "      <th>2022-07-01</th>\n",
       "      <td>102.0</td>\n",
       "      <td>0</td>\n",
       "      <td>7</td>\n",
       "      <td>2022</td>\n",
       "      <td>62.0</td>\n",
       "    </tr>\n",
       "    <tr>\n",
       "      <th>2022-08-01</th>\n",
       "      <td>79.0</td>\n",
       "      <td>0</td>\n",
       "      <td>8</td>\n",
       "      <td>2022</td>\n",
       "      <td>44.0</td>\n",
       "    </tr>\n",
       "    <tr>\n",
       "      <th>2022-09-01</th>\n",
       "      <td>59.0</td>\n",
       "      <td>0</td>\n",
       "      <td>9</td>\n",
       "      <td>2022</td>\n",
       "      <td>66.0</td>\n",
       "    </tr>\n",
       "    <tr>\n",
       "      <th>2022-10-01</th>\n",
       "      <td>81.0</td>\n",
       "      <td>0</td>\n",
       "      <td>10</td>\n",
       "      <td>2022</td>\n",
       "      <td>56.0</td>\n",
       "    </tr>\n",
       "    <tr>\n",
       "      <th>2022-11-01</th>\n",
       "      <td>134.0</td>\n",
       "      <td>0</td>\n",
       "      <td>11</td>\n",
       "      <td>2022</td>\n",
       "      <td>92.0</td>\n",
       "    </tr>\n",
       "    <tr>\n",
       "      <th>2022-12-01</th>\n",
       "      <td>350.0</td>\n",
       "      <td>0</td>\n",
       "      <td>12</td>\n",
       "      <td>2022</td>\n",
       "      <td>142.0</td>\n",
       "    </tr>\n",
       "  </tbody>\n",
       "</table>\n",
       "</div>"
      ],
      "text/plain": [
       "            UNIDADES  covid  month  year  forecast\n",
       "FECHA                                             \n",
       "2023-01-01      13.0      0      1  2023       2.0\n",
       "2023-02-01       3.0      0      2  2023       4.0\n",
       "2023-03-01       5.0      0      3  2023       3.0\n",
       "2023-04-01       2.0      0      4  2023      50.0\n",
       "2022-06-01     107.0      0      6  2022      54.0\n",
       "2022-07-01     102.0      0      7  2022      62.0\n",
       "2022-08-01      79.0      0      8  2022      44.0\n",
       "2022-09-01      59.0      0      9  2022      66.0\n",
       "2022-10-01      81.0      0     10  2022      56.0\n",
       "2022-11-01     134.0      0     11  2022      92.0\n",
       "2022-12-01     350.0      0     12  2022     142.0"
      ]
     },
     "execution_count": 21,
     "metadata": {},
     "output_type": "execute_result"
    }
   ],
   "source": [
    "basicos_results"
   ]
  },
  {
   "cell_type": "code",
   "execution_count": 22,
   "metadata": {},
   "outputs": [
    {
     "name": "stdout",
     "output_type": "stream",
     "text": [
      "R^2      .............. 0.5\n",
      "MAPE ES  .............. 2.57\n"
     ]
    },
    {
     "data": {
      "text/html": [
       "<div>\n",
       "<style scoped>\n",
       "    .dataframe tbody tr th:only-of-type {\n",
       "        vertical-align: middle;\n",
       "    }\n",
       "\n",
       "    .dataframe tbody tr th {\n",
       "        vertical-align: top;\n",
       "    }\n",
       "\n",
       "    .dataframe thead th {\n",
       "        text-align: right;\n",
       "    }\n",
       "</style>\n",
       "<table border=\"1\" class=\"dataframe\">\n",
       "  <thead>\n",
       "    <tr style=\"text-align: right;\">\n",
       "      <th></th>\n",
       "      <th>UNIDADES</th>\n",
       "      <th>covid</th>\n",
       "      <th>month</th>\n",
       "      <th>year</th>\n",
       "      <th>forecast</th>\n",
       "    </tr>\n",
       "    <tr>\n",
       "      <th>FECHA</th>\n",
       "      <th></th>\n",
       "      <th></th>\n",
       "      <th></th>\n",
       "      <th></th>\n",
       "      <th></th>\n",
       "    </tr>\n",
       "  </thead>\n",
       "  <tbody>\n",
       "    <tr>\n",
       "      <th>2022-06-01</th>\n",
       "      <td>107.0</td>\n",
       "      <td>0</td>\n",
       "      <td>6</td>\n",
       "      <td>2022</td>\n",
       "      <td>54.0</td>\n",
       "    </tr>\n",
       "    <tr>\n",
       "      <th>2022-07-01</th>\n",
       "      <td>102.0</td>\n",
       "      <td>0</td>\n",
       "      <td>7</td>\n",
       "      <td>2022</td>\n",
       "      <td>62.0</td>\n",
       "    </tr>\n",
       "    <tr>\n",
       "      <th>2022-08-01</th>\n",
       "      <td>79.0</td>\n",
       "      <td>0</td>\n",
       "      <td>8</td>\n",
       "      <td>2022</td>\n",
       "      <td>44.0</td>\n",
       "    </tr>\n",
       "    <tr>\n",
       "      <th>2022-09-01</th>\n",
       "      <td>59.0</td>\n",
       "      <td>0</td>\n",
       "      <td>9</td>\n",
       "      <td>2022</td>\n",
       "      <td>66.0</td>\n",
       "    </tr>\n",
       "    <tr>\n",
       "      <th>2022-10-01</th>\n",
       "      <td>81.0</td>\n",
       "      <td>0</td>\n",
       "      <td>10</td>\n",
       "      <td>2022</td>\n",
       "      <td>56.0</td>\n",
       "    </tr>\n",
       "    <tr>\n",
       "      <th>2022-11-01</th>\n",
       "      <td>134.0</td>\n",
       "      <td>0</td>\n",
       "      <td>11</td>\n",
       "      <td>2022</td>\n",
       "      <td>92.0</td>\n",
       "    </tr>\n",
       "    <tr>\n",
       "      <th>2022-12-01</th>\n",
       "      <td>350.0</td>\n",
       "      <td>0</td>\n",
       "      <td>12</td>\n",
       "      <td>2022</td>\n",
       "      <td>142.0</td>\n",
       "    </tr>\n",
       "    <tr>\n",
       "      <th>2023-01-01</th>\n",
       "      <td>13.0</td>\n",
       "      <td>0</td>\n",
       "      <td>1</td>\n",
       "      <td>2023</td>\n",
       "      <td>2.0</td>\n",
       "    </tr>\n",
       "    <tr>\n",
       "      <th>2023-02-01</th>\n",
       "      <td>3.0</td>\n",
       "      <td>0</td>\n",
       "      <td>2</td>\n",
       "      <td>2023</td>\n",
       "      <td>4.0</td>\n",
       "    </tr>\n",
       "    <tr>\n",
       "      <th>2023-03-01</th>\n",
       "      <td>5.0</td>\n",
       "      <td>0</td>\n",
       "      <td>3</td>\n",
       "      <td>2023</td>\n",
       "      <td>3.0</td>\n",
       "    </tr>\n",
       "    <tr>\n",
       "      <th>2023-04-01</th>\n",
       "      <td>2.0</td>\n",
       "      <td>0</td>\n",
       "      <td>4</td>\n",
       "      <td>2023</td>\n",
       "      <td>50.0</td>\n",
       "    </tr>\n",
       "  </tbody>\n",
       "</table>\n",
       "</div>"
      ],
      "text/plain": [
       "            UNIDADES  covid  month  year  forecast\n",
       "FECHA                                             \n",
       "2022-06-01     107.0      0      6  2022      54.0\n",
       "2022-07-01     102.0      0      7  2022      62.0\n",
       "2022-08-01      79.0      0      8  2022      44.0\n",
       "2022-09-01      59.0      0      9  2022      66.0\n",
       "2022-10-01      81.0      0     10  2022      56.0\n",
       "2022-11-01     134.0      0     11  2022      92.0\n",
       "2022-12-01     350.0      0     12  2022     142.0\n",
       "2023-01-01      13.0      0      1  2023       2.0\n",
       "2023-02-01       3.0      0      2  2023       4.0\n",
       "2023-03-01       5.0      0      3  2023       3.0\n",
       "2023-04-01       2.0      0      4  2023      50.0"
      ]
     },
     "execution_count": 22,
     "metadata": {},
     "output_type": "execute_result"
    }
   ],
   "source": [
    "basicos_results.sort_index()\n",
    "y_test = basicos_results['UNIDADES']\n",
    "pred_test = basicos_results['forecast']\n",
    "\n",
    "print(\"R^2      ..............\",   round( r2_score(y_test, pred_test),1))\n",
    "print('MAPE ES  ..............',   round(MAPE(y_test, pred_test),2))\n",
    "basicos_results.sort_index()"
   ]
  },
  {
   "cell_type": "code",
   "execution_count": 23,
   "metadata": {},
   "outputs": [
    {
     "data": {
      "text/plain": [
       "<AxesSubplot: xlabel='FECHA'>"
      ]
     },
     "execution_count": 23,
     "metadata": {},
     "output_type": "execute_result"
    },
    {
     "data": {
      "image/png": "[encoded data removed]",
      "text/plain": [
       "<Figure size 640x480 with 1 Axes>"
      ]
     },
     "metadata": {},
     "output_type": "display_data"
    }
   ],
   "source": [
    "basicos_results[['UNIDADES','forecast']].plot()"
   ]
  },
  {
   "cell_type": "code",
   "execution_count": 24,
   "metadata": {},
   "outputs": [
    {
     "data": {
      "text/html": [
       "<div>\n",
       "<style scoped>\n",
       "    .dataframe tbody tr th:only-of-type {\n",
       "        vertical-align: middle;\n",
       "    }\n",
       "\n",
       "    .dataframe tbody tr th {\n",
       "        vertical-align: top;\n",
       "    }\n",
       "\n",
       "    .dataframe thead th {\n",
       "        text-align: right;\n",
       "    }\n",
       "</style>\n",
       "<table border=\"1\" class=\"dataframe\">\n",
       "  <thead>\n",
       "    <tr style=\"text-align: right;\">\n",
       "      <th></th>\n",
       "      <th>FECHA</th>\n",
       "      <th>UNIDADES</th>\n",
       "      <th>covid</th>\n",
       "      <th>month</th>\n",
       "      <th>year</th>\n",
       "    </tr>\n",
       "  </thead>\n",
       "  <tbody>\n",
       "    <tr>\n",
       "      <th>3</th>\n",
       "      <td>2018-04-01</td>\n",
       "      <td>389.0</td>\n",
       "      <td>0</td>\n",
       "      <td>4</td>\n",
       "      <td>2018</td>\n",
       "    </tr>\n",
       "    <tr>\n",
       "      <th>15</th>\n",
       "      <td>2019-04-01</td>\n",
       "      <td>196.0</td>\n",
       "      <td>0</td>\n",
       "      <td>4</td>\n",
       "      <td>2019</td>\n",
       "    </tr>\n",
       "    <tr>\n",
       "      <th>38</th>\n",
       "      <td>2021-04-01</td>\n",
       "      <td>66.0</td>\n",
       "      <td>0</td>\n",
       "      <td>4</td>\n",
       "      <td>2021</td>\n",
       "    </tr>\n",
       "    <tr>\n",
       "      <th>50</th>\n",
       "      <td>2022-04-01</td>\n",
       "      <td>50.0</td>\n",
       "      <td>0</td>\n",
       "      <td>4</td>\n",
       "      <td>2022</td>\n",
       "    </tr>\n",
       "    <tr>\n",
       "      <th>62</th>\n",
       "      <td>2023-04-01</td>\n",
       "      <td>2.0</td>\n",
       "      <td>0</td>\n",
       "      <td>4</td>\n",
       "      <td>2023</td>\n",
       "    </tr>\n",
       "  </tbody>\n",
       "</table>\n",
       "</div>"
      ],
      "text/plain": [
       "        FECHA  UNIDADES  covid  month  year\n",
       "3  2018-04-01     389.0      0      4  2018\n",
       "15 2019-04-01     196.0      0      4  2019\n",
       "38 2021-04-01      66.0      0      4  2021\n",
       "50 2022-04-01      50.0      0      4  2022\n",
       "62 2023-04-01       2.0      0      4  2023"
      ]
     },
     "execution_count": 24,
     "metadata": {},
     "output_type": "execute_result"
    }
   ],
   "source": [
    "df_model_month = df_model.loc[df_model['month'] == 4]\n",
    "df_model_month"
   ]
  },
  {
   "cell_type": "code",
   "execution_count": 25,
   "metadata": {},
   "outputs": [],
   "source": [
    "limit_month = '2023-04-01'"
   ]
  },
  {
   "cell_type": "code",
   "execution_count": 26,
   "metadata": {},
   "outputs": [],
   "source": [
    "train_month = df_model_month.loc[df_model_month['FECHA'] < limit_month].drop(columns={'FECHA'},axis=1)\n",
    "test_month = df_model_month.loc[df_model_month['FECHA'] >= limit_month].drop(columns={'FECHA'},axis=1)"
   ]
  },
  {
   "cell_type": "code",
   "execution_count": 27,
   "metadata": {},
   "outputs": [],
   "source": [
    "X_train, y_train = create_features_mes_venta(train_month, label = 'UNIDADES')\n",
    "X_test, y_test = create_features_mes_venta(test_month, label = 'UNIDADES')"
   ]
  },
  {
   "cell_type": "code",
   "execution_count": 28,
   "metadata": {},
   "outputs": [
    {
     "data": {
      "text/plain": [
       "XGBRegressor(base_score=0.5, booster='gbtree', callbacks=None,\n",
       "             colsample_bylevel=1, colsample_bynode=1, colsample_bytree=1,\n",
       "             early_stopping_rounds=None, enable_categorical=False,\n",
       "             eval_metric=['rmse', 'mae', 'mape'], feature_types=None, gamma=0,\n",
       "             gpu_id=-1, grow_policy='depthwise', importance_type=None,\n",
       "             interaction_constraints='', learning_rate=0.01, max_bin=256,\n",
       "             max_cat_threshold=64, max_cat_to_onehot=4, max_delta_step=0,\n",
       "             max_depth=3, max_leaves=0, min_child_weight=1, missing=nan,\n",
       "             monotone_constraints='()', n_estimators=1000, n_jobs=0,\n",
       "             num_parallel_tree=1, predictor='auto', random_state=0, ...)"
      ]
     },
     "execution_count": 28,
     "metadata": {},
     "output_type": "execute_result"
    }
   ],
   "source": [
    "xg_reg = xgb.XGBRegressor(base_score=0.5, booster='gbtree',    \n",
    "                        n_estimators = 1000,\n",
    "                        objective='reg:squarederror',\n",
    "                        max_depth=3,\n",
    "                        learning_rate=0.01,\n",
    "                        eval_metric = ['rmse','mae','mape']\n",
    "                        )\n",
    "\n",
    "# Fit the model to the training data\n",
    "xg_reg.fit(X_train,y_train)"
   ]
  },
  {
   "cell_type": "code",
   "execution_count": 29,
   "metadata": {},
   "outputs": [],
   "source": [
    "test_month['forecast'] = np.ceil(xg_reg.predict(X_test))"
   ]
  },
  {
   "cell_type": "code",
   "execution_count": 30,
   "metadata": {},
   "outputs": [
    {
     "data": {
      "text/html": [
       "<div>\n",
       "<style scoped>\n",
       "    .dataframe tbody tr th:only-of-type {\n",
       "        vertical-align: middle;\n",
       "    }\n",
       "\n",
       "    .dataframe tbody tr th {\n",
       "        vertical-align: top;\n",
       "    }\n",
       "\n",
       "    .dataframe thead th {\n",
       "        text-align: right;\n",
       "    }\n",
       "</style>\n",
       "<table border=\"1\" class=\"dataframe\">\n",
       "  <thead>\n",
       "    <tr style=\"text-align: right;\">\n",
       "      <th></th>\n",
       "      <th>UNIDADES</th>\n",
       "      <th>covid</th>\n",
       "      <th>month</th>\n",
       "      <th>year</th>\n",
       "      <th>forecast</th>\n",
       "    </tr>\n",
       "  </thead>\n",
       "  <tbody>\n",
       "    <tr>\n",
       "      <th>62</th>\n",
       "      <td>2.0</td>\n",
       "      <td>0</td>\n",
       "      <td>4</td>\n",
       "      <td>2023</td>\n",
       "      <td>50.0</td>\n",
       "    </tr>\n",
       "  </tbody>\n",
       "</table>\n",
       "</div>"
      ],
      "text/plain": [
       "    UNIDADES  covid  month  year  forecast\n",
       "62       2.0      0      4  2023      50.0"
      ]
     },
     "execution_count": 30,
     "metadata": {},
     "output_type": "execute_result"
    }
   ],
   "source": [
    "test_month"
   ]
  },
  {
   "attachments": {},
   "cell_type": "markdown",
   "metadata": {},
   "source": [
    "#### MODELO DEL FUTURO MES A MES"
   ]
  },
  {
   "cell_type": "code",
   "execution_count": 31,
   "metadata": {},
   "outputs": [],
   "source": [
    "df_model = df_model.loc[df_model['FECHA'] <= '2023-03-01']"
   ]
  },
  {
   "cell_type": "code",
   "execution_count": 32,
   "metadata": {},
   "outputs": [
    {
     "data": {
      "text/html": [
       "<div>\n",
       "<style scoped>\n",
       "    .dataframe tbody tr th:only-of-type {\n",
       "        vertical-align: middle;\n",
       "    }\n",
       "\n",
       "    .dataframe tbody tr th {\n",
       "        vertical-align: top;\n",
       "    }\n",
       "\n",
       "    .dataframe thead th {\n",
       "        text-align: right;\n",
       "    }\n",
       "</style>\n",
       "<table border=\"1\" class=\"dataframe\">\n",
       "  <thead>\n",
       "    <tr style=\"text-align: right;\">\n",
       "      <th></th>\n",
       "      <th>FECHA</th>\n",
       "      <th>UNIDADES</th>\n",
       "      <th>covid</th>\n",
       "      <th>month</th>\n",
       "      <th>year</th>\n",
       "    </tr>\n",
       "  </thead>\n",
       "  <tbody>\n",
       "    <tr>\n",
       "      <th>0</th>\n",
       "      <td>2018-01-01</td>\n",
       "      <td>337.0</td>\n",
       "      <td>0</td>\n",
       "      <td>1</td>\n",
       "      <td>2018</td>\n",
       "    </tr>\n",
       "    <tr>\n",
       "      <th>1</th>\n",
       "      <td>2018-02-01</td>\n",
       "      <td>229.0</td>\n",
       "      <td>0</td>\n",
       "      <td>2</td>\n",
       "      <td>2018</td>\n",
       "    </tr>\n",
       "    <tr>\n",
       "      <th>2</th>\n",
       "      <td>2018-03-01</td>\n",
       "      <td>334.0</td>\n",
       "      <td>0</td>\n",
       "      <td>3</td>\n",
       "      <td>2018</td>\n",
       "    </tr>\n",
       "    <tr>\n",
       "      <th>3</th>\n",
       "      <td>2018-04-01</td>\n",
       "      <td>389.0</td>\n",
       "      <td>0</td>\n",
       "      <td>4</td>\n",
       "      <td>2018</td>\n",
       "    </tr>\n",
       "    <tr>\n",
       "      <th>4</th>\n",
       "      <td>2018-05-01</td>\n",
       "      <td>412.0</td>\n",
       "      <td>0</td>\n",
       "      <td>5</td>\n",
       "      <td>2018</td>\n",
       "    </tr>\n",
       "  </tbody>\n",
       "</table>\n",
       "</div>"
      ],
      "text/plain": [
       "       FECHA  UNIDADES  covid  month  year\n",
       "0 2018-01-01     337.0      0      1  2018\n",
       "1 2018-02-01     229.0      0      2  2018\n",
       "2 2018-03-01     334.0      0      3  2018\n",
       "3 2018-04-01     389.0      0      4  2018\n",
       "4 2018-05-01     412.0      0      5  2018"
      ]
     },
     "execution_count": 32,
     "metadata": {},
     "output_type": "execute_result"
    }
   ],
   "source": [
    "df_model.head()"
   ]
  },
  {
   "cell_type": "code",
   "execution_count": 33,
   "metadata": {},
   "outputs": [],
   "source": [
    "# MODELO PARA PRONOSTICO FUTURO\n",
    "# MODELO LINEAL\n",
    "# DF_MODEL_MONTH DEBE INCLUIR LAS SIGUIENTES COLUMNAS\n",
    "# UNIDADES, COVID, MONTH, YEAR -- EN ESE ORDEN SIEMPRE \n",
    "\n",
    "def XGB_model_future(df_model_month, initial_Date=None):\n",
    "\n",
    "    new_dates = pd.date_range(start = '2023-04-01', end='2023-10-01', freq='MS')\n",
    "    new_df = pd.DataFrame({'UNIDADES':0,'covid':0,'month': new_dates.month, 'year': new_dates.year}, index=new_dates)\n",
    "    new_df.index.name = 'FECHA'\n",
    "\n",
    "    new_X = new_df.drop(['UNIDADES'], axis=1)\n",
    "\n",
    "    limit_month = '2023-04-01'\n",
    "    train_month = df_model_month.loc[df_model_month['FECHA'] < limit_month].set_index('FECHA')#.drop(columns={'FECHA'},axis=1)\n",
    "    \n",
    "    X_train, y_train = create_features_mes_venta(train_month, label = 'UNIDADES')\n",
    "\n",
    "    xg_reg = xgb.XGBRegressor(base_score=0.5, booster='gbtree',    \n",
    "                        n_estimators = 1000,\n",
    "                        objective='reg:squarederror',\n",
    "                        max_depth=3,\n",
    "                        learning_rate=0.01,\n",
    "                        eval_metric = ['rmse','mae','mape']\n",
    "                        )\n",
    "\n",
    "    # Fit the model to the training data\n",
    "    xg_reg.fit(X_train,y_train)\n",
    "\n",
    "    # test_month['forecast'] = np.ceil(xg_reg.predict(X_test))\n",
    "    new_df['predicted_sales'] = np.ceil(xg_reg.predict(new_X))\n",
    "\n",
    "    return  new_df"
   ]
  },
  {
   "cell_type": "code",
   "execution_count": 34,
   "metadata": {},
   "outputs": [],
   "source": [
    "# GENERA UN SOLO RESULTADO PERO SE TOMA TODO EL HISTORICO \n",
    "# PORQUE SI TOMAMOS TODOS LOS MESES ENTONCES SE REPLICA EL ULTIMO VALOR\n",
    "\n",
    "def XGB_model_future_monthly(df_model_month, date_test):\n",
    "\n",
    "    new_dates = pd.date_range(start = date_test, end=date_test, freq='MS')\n",
    "    new_df = pd.DataFrame({'UNIDADES':0,'covid':0,'month': new_dates.month, 'year': new_dates.year}, index=new_dates)\n",
    "    new_df.index.name = 'FECHA'\n",
    "\n",
    "    new_X = new_df.drop(['UNIDADES'], axis=1)\n",
    "\n",
    "    limit_month = '2023-04-01'\n",
    "    train_month = df_model_month.loc[df_model_month['FECHA'] < limit_month].set_index('FECHA')#.drop(columns={'FECHA'},axis=1)\n",
    "    \n",
    "    X_train, y_train = create_features_mes_venta(train_month, label = 'UNIDADES')\n",
    "\n",
    "    xg_reg = xgb.XGBRegressor(base_score=0.5, booster='gbtree',    \n",
    "                        n_estimators = 1000,\n",
    "                        objective='reg:squarederror',\n",
    "                        max_depth=3,\n",
    "                        learning_rate=0.01,\n",
    "                        eval_metric = ['rmse','mae','mape']\n",
    "                        )\n",
    "\n",
    "    # Fit the model to the training data\n",
    "    xg_reg.fit(X_train,y_train)\n",
    "\n",
    "    # test_month['forecast'] = np.ceil(xg_reg.predict(X_test))\n",
    "    # new_df['forecast'] = np.ceil(xg_reg.predict(new_X))\n",
    "    new_df['UNIDADES'] = np.ceil(xg_reg.predict(new_X))\n",
    "\n",
    "    return  new_df[['UNIDADES']]"
   ]
  },
  {
   "cell_type": "code",
   "execution_count": 35,
   "metadata": {},
   "outputs": [],
   "source": [
    "meses_basicos = [4,5,6,7,8,9,10]\n",
    "\n",
    "basicos_results_monthly = pd.DataFrame()\n",
    "\n",
    "\n",
    "# ESTE CICLO PRONOSTICA VENTAS DESDE ABRIL HASTA OCTUBRE\n",
    "for mes in meses_basicos:\n",
    "    \n",
    "    df_model2 = df_model.loc[df_model['month'] == mes]\n",
    "    \n",
    "    if mes in df_model2['month'].unique():\n",
    "        # Data for test \n",
    "        last_date_train = df_model2.FECHA.iloc[len(df_model2)-1] \n",
    "\n",
    "        date_obj = datetime.strptime(last_date_train.strftime('%Y-%m-%d'), '%Y-%m-%d')\n",
    "        forecast_date = date_obj + relativedelta(years=1)\n",
    "        \n",
    "        final_date_test = datetime.strftime(forecast_date, '%Y-%m-%d')\n",
    "        basicos_results_monthly = pd.concat([basicos_results_monthly,XGB_model_future_monthly(df_model, final_date_test)])\n",
    "        basicos_results_monthly['tipo'] = 'CAMISA MANGA LARGA'\n",
    "        basicos_results_monthly['MUNDO'] = 'NIÑA'\n",
    "    else:\n",
    "        continue"
   ]
  },
  {
   "cell_type": "code",
   "execution_count": 36,
   "metadata": {},
   "outputs": [
    {
     "data": {
      "text/html": [
       "<div>\n",
       "<style scoped>\n",
       "    .dataframe tbody tr th:only-of-type {\n",
       "        vertical-align: middle;\n",
       "    }\n",
       "\n",
       "    .dataframe tbody tr th {\n",
       "        vertical-align: top;\n",
       "    }\n",
       "\n",
       "    .dataframe thead th {\n",
       "        text-align: right;\n",
       "    }\n",
       "</style>\n",
       "<table border=\"1\" class=\"dataframe\">\n",
       "  <thead>\n",
       "    <tr style=\"text-align: right;\">\n",
       "      <th></th>\n",
       "      <th>UNIDADES</th>\n",
       "      <th>tipo</th>\n",
       "      <th>MUNDO</th>\n",
       "    </tr>\n",
       "    <tr>\n",
       "      <th>FECHA</th>\n",
       "      <th></th>\n",
       "      <th></th>\n",
       "      <th></th>\n",
       "    </tr>\n",
       "  </thead>\n",
       "  <tbody>\n",
       "    <tr>\n",
       "      <th>2023-04-01</th>\n",
       "      <td>45.0</td>\n",
       "      <td>CAMISA MANGA LARGA</td>\n",
       "      <td>NIÑA</td>\n",
       "    </tr>\n",
       "    <tr>\n",
       "      <th>2023-05-01</th>\n",
       "      <td>77.0</td>\n",
       "      <td>CAMISA MANGA LARGA</td>\n",
       "      <td>NIÑA</td>\n",
       "    </tr>\n",
       "    <tr>\n",
       "      <th>2023-06-01</th>\n",
       "      <td>91.0</td>\n",
       "      <td>CAMISA MANGA LARGA</td>\n",
       "      <td>NIÑA</td>\n",
       "    </tr>\n",
       "    <tr>\n",
       "      <th>2023-07-01</th>\n",
       "      <td>80.0</td>\n",
       "      <td>CAMISA MANGA LARGA</td>\n",
       "      <td>NIÑA</td>\n",
       "    </tr>\n",
       "    <tr>\n",
       "      <th>2023-08-01</th>\n",
       "      <td>55.0</td>\n",
       "      <td>CAMISA MANGA LARGA</td>\n",
       "      <td>NIÑA</td>\n",
       "    </tr>\n",
       "    <tr>\n",
       "      <th>2023-09-01</th>\n",
       "      <td>53.0</td>\n",
       "      <td>CAMISA MANGA LARGA</td>\n",
       "      <td>NIÑA</td>\n",
       "    </tr>\n",
       "    <tr>\n",
       "      <th>2023-10-01</th>\n",
       "      <td>66.0</td>\n",
       "      <td>CAMISA MANGA LARGA</td>\n",
       "      <td>NIÑA</td>\n",
       "    </tr>\n",
       "  </tbody>\n",
       "</table>\n",
       "</div>"
      ],
      "text/plain": [
       "            UNIDADES                tipo MUNDO\n",
       "FECHA                                         \n",
       "2023-04-01      45.0  CAMISA MANGA LARGA  NIÑA\n",
       "2023-05-01      77.0  CAMISA MANGA LARGA  NIÑA\n",
       "2023-06-01      91.0  CAMISA MANGA LARGA  NIÑA\n",
       "2023-07-01      80.0  CAMISA MANGA LARGA  NIÑA\n",
       "2023-08-01      55.0  CAMISA MANGA LARGA  NIÑA\n",
       "2023-09-01      53.0  CAMISA MANGA LARGA  NIÑA\n",
       "2023-10-01      66.0  CAMISA MANGA LARGA  NIÑA"
      ]
     },
     "execution_count": 36,
     "metadata": {},
     "output_type": "execute_result"
    }
   ],
   "source": [
    "basicos_results_monthly"
   ]
  },
  {
   "attachments": {},
   "cell_type": "markdown",
   "metadata": {},
   "source": [
    "#### BASICOS PARA NIÑA"
   ]
  },
  {
   "cell_type": "code",
   "execution_count": 37,
   "metadata": {},
   "outputs": [],
   "source": [
    "df_canal['FECHA'] = pd.to_datetime(df_canal['FECHA VENTA']).dt.to_period('M')"
   ]
  },
  {
   "cell_type": "code",
   "execution_count": 38,
   "metadata": {},
   "outputs": [],
   "source": [
    "basicos = df_canal.loc[df_canal['Concepto Diseño'] == 'BASICOS']"
   ]
  },
  {
   "cell_type": "code",
   "execution_count": 39,
   "metadata": {},
   "outputs": [],
   "source": [
    "tipos = basicos['Tipo de Artículo'].unique()\n",
    "mundos =  basicos['Mundo'].unique()\n",
    "\n",
    "# tipos = ['CAMISA MANGA LARGA', 'PANTALON']"
   ]
  },
  {
   "cell_type": "code",
   "execution_count": 40,
   "metadata": {},
   "outputs": [
    {
     "name": "stdout",
     "output_type": "stream",
     "text": [
      "       FECHA  UNIDADES  covid  month  year\n",
      "0 2018-01-01       3.0      0      1  2018\n",
      "1 2018-02-01     148.0      0      2  2018\n",
      "2 2018-03-01     258.0      0      3  2018\n",
      "3 2018-04-01     253.0      0      4  2018\n",
      "4 2018-05-01     319.0      0      5  2018\n"
     ]
    }
   ],
   "source": [
    "single_data = basicos.loc[basicos['Mundo'] == 'NIÑA']\n",
    "single_data = single_data.loc[single_data['Tipo de Artículo'] == 'PANTALON']\n",
    "single_data.to_excel('ejemplo.xlsx')\n",
    "\n",
    "\n",
    "df_model = single_data.groupby('FECHA')['UNIDADES'].sum().reset_index()\n",
    "df_model['FECHA'] = df_model['FECHA'].apply(lambda x: x.to_timestamp())\n",
    "df_model = df_model.loc[df_model['FECHA'] <= '2023-03-01']\n",
    "\n",
    "df_model['covid'] = [1 if ((x > pd.Timestamp('2020-03')) & (x < pd.Timestamp('2021-03'))) else 0 for x in df_model.FECHA]\n",
    "df_model['month'] = df_model['FECHA'].dt.month\n",
    "df_model['year'] = df_model['FECHA'].dt.year\n",
    "\n",
    "print(df_model.head(5))"
   ]
  },
  {
   "cell_type": "code",
   "execution_count": 41,
   "metadata": {},
   "outputs": [],
   "source": [
    "single_data = basicos.loc[basicos['Mundo'] == 'NIÑO']\n",
    "single_data = single_data.loc[single_data['Tipo de Artículo'] == 'BALETA']\n",
    "\n",
    "df_model = basicos_individual.groupby('FECHA')['UNIDADES'].sum().reset_index()\n",
    "df_model['FECHA'] = df_model['FECHA'].apply(lambda x: x.to_timestamp())\n",
    "df_model = df_model.loc[df_model['FECHA'] <= '2023-03-01']\n",
    "\n",
    "df_model['covid'] = [1 if ((x > pd.Timestamp('2020-03')) & (x < pd.Timestamp('2021-03'))) else 0 for x in df_model.FECHA]\n",
    "df_model['month'] = df_model['FECHA'].dt.month\n",
    "df_model['year'] = df_model['FECHA'].dt.year\n",
    "\n",
    "meses_basicos = [4,5,6,7,8,9,10]\n",
    "basicos_results_monthly = pd.DataFrame()\n",
    "\n",
    "# opcion 1\n",
    "basicos_results_Linear = pd.DataFrame()\n",
    "basicos_results_Linear = pd.concat([basicos_results_Linear,XGB_model_future(df_model)])\n",
    "basicos_results_Linear = basicos_results_Linear.sort_index()\n",
    "\n",
    "# print(basicos_results_monthly)\n",
    "\n",
    "# OPCION 2 \n",
    "# ESTE CICLO PRONOSTICA VENTAS DESDE ABRIL HASTA OCTUBRE\n",
    "\n",
    "for mes in meses_basicos:\n",
    "        \n",
    "    df_model2 = df_model.loc[df_model['month'] == mes]\n",
    "    \n",
    "    if mes in df_model2['month'].unique():\n",
    "        # Data for test \n",
    "        last_date_train = df_model2.FECHA.iloc[len(df_model2)-1] \n",
    "\n",
    "        date_obj = datetime.strptime(last_date_train.strftime('%Y-%m-%d'), '%Y-%m-%d')\n",
    "        forecast_date = date_obj + relativedelta(years=1)\n",
    "        \n",
    "        final_date_test = datetime.strftime(forecast_date, '%Y-%m-%d')\n",
    "        basicos_results_monthly = pd.concat([basicos_results_monthly,XGB_model_future_monthly(df_model2, final_date_test)])\n",
    "        basicos_results_monthly = basicos_results_monthly.sort_index()"
   ]
  },
  {
   "cell_type": "code",
   "execution_count": 42,
   "metadata": {},
   "outputs": [
    {
     "data": {
      "application/vnd.plotly.v1+json": {
       "config": {
        "plotlyServerURL": "https://plot.ly"
       },
       "data": [
        {
         "name": "lineal",
         "type": "scatter",
         "x": [
          "2023-04-01T00:00:00",
          "2023-05-01T00:00:00",
          "2023-06-01T00:00:00",
          "2023-07-01T00:00:00",
          "2023-08-01T00:00:00",
          "2023-09-01T00:00:00",
          "2023-10-01T00:00:00"
         ],
         "y": [
          45,
          77,
          91,
          80,
          55,
          53,
          66
         ]
        },
        {
         "name": "basicos_results_monthly",
         "type": "scatter",
         "x": [
          "2023-04-01T00:00:00",
          "2023-05-01T00:00:00",
          "2023-06-01T00:00:00",
          "2023-07-01T00:00:00",
          "2023-08-01T00:00:00",
          "2023-09-01T00:00:00",
          "2023-10-01T00:00:00"
         ],
         "y": [
          50,
          76,
          107,
          102,
          79,
          59,
          81
         ]
        }
       ],
       "layout": {
        "template": {
         "data": {
          "bar": [
           {
            "error_x": {
             "color": "#2a3f5f"
            },
            "error_y": {
             "color": "#2a3f5f"
            },
            "marker": {
             "line": {
              "color": "#E5ECF6",
              "width": 0.5
             },
             "pattern": {
              "fillmode": "overlay",
              "size": 10,
              "solidity": 0.2
             }
            },
            "type": "bar"
           }
          ],
          "barpolar": [
           {
            "marker": {
             "line": {
              "color": "#E5ECF6",
              "width": 0.5
             },
             "pattern": {
              "fillmode": "overlay",
              "size": 10,
              "solidity": 0.2
             }
            },
            "type": "barpolar"
           }
          ],
          "carpet": [
           {
            "aaxis": {
             "endlinecolor": "#2a3f5f",
             "gridcolor": "white",
             "linecolor": "white",
             "minorgridcolor": "white",
             "startlinecolor": "#2a3f5f"
            },
            "baxis": {
             "endlinecolor": "#2a3f5f",
             "gridcolor": "white",
             "linecolor": "white",
             "minorgridcolor": "white",
             "startlinecolor": "#2a3f5f"
            },
            "type": "carpet"
           }
          ],
          "choropleth": [
           {
            "colorbar": {
             "outlinewidth": 0,
             "ticks": ""
            },
            "type": "choropleth"
           }
          ],
          "contour": [
           {
            "colorbar": {
             "outlinewidth": 0,
             "ticks": ""
            },
            "colorscale": [
             [
              0,
              "#0d0887"
             ],
             [
              0.1111111111111111,
              "#46039f"
             ],
             [
              0.2222222222222222,
              "#7201a8"
             ],
             [
              0.3333333333333333,
              "#9c179e"
             ],
             [
              0.4444444444444444,
              "#bd3786"
             ],
             [
              0.5555555555555556,
              "#d8576b"
             ],
             [
              0.6666666666666666,
              "#ed7953"
             ],
             [
              0.7777777777777778,
              "#fb9f3a"
             ],
             [
              0.8888888888888888,
              "#fdca26"
             ],
             [
              1,
              "#f0f921"
             ]
            ],
            "type": "contour"
           }
          ],
          "contourcarpet": [
           {
            "colorbar": {
             "outlinewidth": 0,
             "ticks": ""
            },
            "type": "contourcarpet"
           }
          ],
          "heatmap": [
           {
            "colorbar": {
             "outlinewidth": 0,
             "ticks": ""
            },
            "colorscale": [
             [
              0,
              "#0d0887"
             ],
             [
              0.1111111111111111,
              "#46039f"
             ],
             [
              0.2222222222222222,
              "#7201a8"
             ],
             [
              0.3333333333333333,
              "#9c179e"
             ],
             [
              0.4444444444444444,
              "#bd3786"
             ],
             [
              0.5555555555555556,
              "#d8576b"
             ],
             [
              0.6666666666666666,
              "#ed7953"
             ],
             [
              0.7777777777777778,
              "#fb9f3a"
             ],
             [
              0.8888888888888888,
              "#fdca26"
             ],
             [
              1,
              "#f0f921"
             ]
            ],
            "type": "heatmap"
           }
          ],
          "heatmapgl": [
           {
            "colorbar": {
             "outlinewidth": 0,
             "ticks": ""
            },
            "colorscale": [
             [
              0,
              "#0d0887"
             ],
             [
              0.1111111111111111,
              "#46039f"
             ],
             [
              0.2222222222222222,
              "#7201a8"
             ],
             [
              0.3333333333333333,
              "#9c179e"
             ],
             [
              0.4444444444444444,
              "#bd3786"
             ],
             [
              0.5555555555555556,
              "#d8576b"
             ],
             [
              0.6666666666666666,
              "#ed7953"
             ],
             [
              0.7777777777777778,
              "#fb9f3a"
             ],
             [
              0.8888888888888888,
              "#fdca26"
             ],
             [
              1,
              "#f0f921"
             ]
            ],
            "type": "heatmapgl"
           }
          ],
          "histogram": [
           {
            "marker": {
             "pattern": {
              "fillmode": "overlay",
              "size": 10,
              "solidity": 0.2
             }
            },
            "type": "histogram"
           }
          ],
          "histogram2d": [
           {
            "colorbar": {
             "outlinewidth": 0,
             "ticks": ""
            },
            "colorscale": [
             [
              0,
              "#0d0887"
             ],
             [
              0.1111111111111111,
              "#46039f"
             ],
             [
              0.2222222222222222,
              "#7201a8"
             ],
             [
              0.3333333333333333,
              "#9c179e"
             ],
             [
              0.4444444444444444,
              "#bd3786"
             ],
             [
              0.5555555555555556,
              "#d8576b"
             ],
             [
              0.6666666666666666,
              "#ed7953"
             ],
             [
              0.7777777777777778,
              "#fb9f3a"
             ],
             [
              0.8888888888888888,
              "#fdca26"
             ],
             [
              1,
              "#f0f921"
             ]
            ],
            "type": "histogram2d"
           }
          ],
          "histogram2dcontour": [
           {
            "colorbar": {
             "outlinewidth": 0,
             "ticks": ""
            },
            "colorscale": [
             [
              0,
              "#0d0887"
             ],
             [
              0.1111111111111111,
              "#46039f"
             ],
             [
              0.2222222222222222,
              "#7201a8"
             ],
             [
              0.3333333333333333,
              "#9c179e"
             ],
             [
              0.4444444444444444,
              "#bd3786"
             ],
             [
              0.5555555555555556,
              "#d8576b"
             ],
             [
              0.6666666666666666,
              "#ed7953"
             ],
             [
              0.7777777777777778,
              "#fb9f3a"
             ],
             [
              0.8888888888888888,
              "#fdca26"
             ],
             [
              1,
              "#f0f921"
             ]
            ],
            "type": "histogram2dcontour"
           }
          ],
          "mesh3d": [
           {
            "colorbar": {
             "outlinewidth": 0,
             "ticks": ""
            },
            "type": "mesh3d"
           }
          ],
          "parcoords": [
           {
            "line": {
             "colorbar": {
              "outlinewidth": 0,
              "ticks": ""
             }
            },
            "type": "parcoords"
           }
          ],
          "pie": [
           {
            "automargin": true,
            "type": "pie"
           }
          ],
          "scatter": [
           {
            "fillpattern": {
             "fillmode": "overlay",
             "size": 10,
             "solidity": 0.2
            },
            "type": "scatter"
           }
          ],
          "scatter3d": [
           {
            "line": {
             "colorbar": {
              "outlinewidth": 0,
              "ticks": ""
             }
            },
            "marker": {
             "colorbar": {
              "outlinewidth": 0,
              "ticks": ""
             }
            },
            "type": "scatter3d"
           }
          ],
          "scattercarpet": [
           {
            "marker": {
             "colorbar": {
              "outlinewidth": 0,
              "ticks": ""
             }
            },
            "type": "scattercarpet"
           }
          ],
          "scattergeo": [
           {
            "marker": {
             "colorbar": {
              "outlinewidth": 0,
              "ticks": ""
             }
            },
            "type": "scattergeo"
           }
          ],
          "scattergl": [
           {
            "marker": {
             "colorbar": {
              "outlinewidth": 0,
              "ticks": ""
             }
            },
            "type": "scattergl"
           }
          ],
          "scattermapbox": [
           {
            "marker": {
             "colorbar": {
              "outlinewidth": 0,
              "ticks": ""
             }
            },
            "type": "scattermapbox"
           }
          ],
          "scatterpolar": [
           {
            "marker": {
             "colorbar": {
              "outlinewidth": 0,
              "ticks": ""
             }
            },
            "type": "scatterpolar"
           }
          ],
          "scatterpolargl": [
           {
            "marker": {
             "colorbar": {
              "outlinewidth": 0,
              "ticks": ""
             }
            },
            "type": "scatterpolargl"
           }
          ],
          "scatterternary": [
           {
            "marker": {
             "colorbar": {
              "outlinewidth": 0,
              "ticks": ""
             }
            },
            "type": "scatterternary"
           }
          ],
          "surface": [
           {
            "colorbar": {
             "outlinewidth": 0,
             "ticks": ""
            },
            "colorscale": [
             [
              0,
              "#0d0887"
             ],
             [
              0.1111111111111111,
              "#46039f"
             ],
             [
              0.2222222222222222,
              "#7201a8"
             ],
             [
              0.3333333333333333,
              "#9c179e"
             ],
             [
              0.4444444444444444,
              "#bd3786"
             ],
             [
              0.5555555555555556,
              "#d8576b"
             ],
             [
              0.6666666666666666,
              "#ed7953"
             ],
             [
              0.7777777777777778,
              "#fb9f3a"
             ],
             [
              0.8888888888888888,
              "#fdca26"
             ],
             [
              1,
              "#f0f921"
             ]
            ],
            "type": "surface"
           }
          ],
          "table": [
           {
            "cells": {
             "fill": {
              "color": "#EBF0F8"
             },
             "line": {
              "color": "white"
             }
            },
            "header": {
             "fill": {
              "color": "#C8D4E3"
             },
             "line": {
              "color": "white"
             }
            },
            "type": "table"
           }
          ]
         },
         "layout": {
          "annotationdefaults": {
           "arrowcolor": "#2a3f5f",
           "arrowhead": 0,
           "arrowwidth": 1
          },
          "autotypenumbers": "strict",
          "coloraxis": {
           "colorbar": {
            "outlinewidth": 0,
            "ticks": ""
           }
          },
          "colorscale": {
           "diverging": [
            [
             0,
             "#8e0152"
            ],
            [
             0.1,
             "#c51b7d"
            ],
            [
             0.2,
             "#de77ae"
            ],
            [
             0.3,
             "#f1b6da"
            ],
            [
             0.4,
             "#fde0ef"
            ],
            [
             0.5,
             "#f7f7f7"
            ],
            [
             0.6,
             "#e6f5d0"
            ],
            [
             0.7,
             "#b8e186"
            ],
            [
             0.8,
             "#7fbc41"
            ],
            [
             0.9,
             "#4d9221"
            ],
            [
             1,
             "#276419"
            ]
           ],
           "sequential": [
            [
             0,
             "#0d0887"
            ],
            [
             0.1111111111111111,
             "#46039f"
            ],
            [
             0.2222222222222222,
             "#7201a8"
            ],
            [
             0.3333333333333333,
             "#9c179e"
            ],
            [
             0.4444444444444444,
             "#bd3786"
            ],
            [
             0.5555555555555556,
             "#d8576b"
            ],
            [
             0.6666666666666666,
             "#ed7953"
            ],
            [
             0.7777777777777778,
             "#fb9f3a"
            ],
            [
             0.8888888888888888,
             "#fdca26"
            ],
            [
             1,
             "#f0f921"
            ]
           ],
           "sequentialminus": [
            [
             0,
             "#0d0887"
            ],
            [
             0.1111111111111111,
             "#46039f"
            ],
            [
             0.2222222222222222,
             "#7201a8"
            ],
            [
             0.3333333333333333,
             "#9c179e"
            ],
            [
             0.4444444444444444,
             "#bd3786"
            ],
            [
             0.5555555555555556,
             "#d8576b"
            ],
            [
             0.6666666666666666,
             "#ed7953"
            ],
            [
             0.7777777777777778,
             "#fb9f3a"
            ],
            [
             0.8888888888888888,
             "#fdca26"
            ],
            [
             1,
             "#f0f921"
            ]
           ]
          },
          "colorway": [
           "#636efa",
           "#EF553B",
           "#00cc96",
           "#ab63fa",
           "#FFA15A",
           "#19d3f3",
           "#FF6692",
           "#B6E880",
           "#FF97FF",
           "#FECB52"
          ],
          "font": {
           "color": "#2a3f5f"
          },
          "geo": {
           "bgcolor": "white",
           "lakecolor": "white",
           "landcolor": "#E5ECF6",
           "showlakes": true,
           "showland": true,
           "subunitcolor": "white"
          },
          "hoverlabel": {
           "align": "left"
          },
          "hovermode": "closest",
          "mapbox": {
           "style": "light"
          },
          "paper_bgcolor": "white",
          "plot_bgcolor": "#E5ECF6",
          "polar": {
           "angularaxis": {
            "gridcolor": "white",
            "linecolor": "white",
            "ticks": ""
           },
           "bgcolor": "#E5ECF6",
           "radialaxis": {
            "gridcolor": "white",
            "linecolor": "white",
            "ticks": ""
           }
          },
          "scene": {
           "xaxis": {
            "backgroundcolor": "#E5ECF6",
            "gridcolor": "white",
            "gridwidth": 2,
            "linecolor": "white",
            "showbackground": true,
            "ticks": "",
            "zerolinecolor": "white"
           },
           "yaxis": {
            "backgroundcolor": "#E5ECF6",
            "gridcolor": "white",
            "gridwidth": 2,
            "linecolor": "white",
            "showbackground": true,
            "ticks": "",
            "zerolinecolor": "white"
           },
           "zaxis": {
            "backgroundcolor": "#E5ECF6",
            "gridcolor": "white",
            "gridwidth": 2,
            "linecolor": "white",
            "showbackground": true,
            "ticks": "",
            "zerolinecolor": "white"
           }
          },
          "shapedefaults": {
           "line": {
            "color": "#2a3f5f"
           }
          },
          "ternary": {
           "aaxis": {
            "gridcolor": "white",
            "linecolor": "white",
            "ticks": ""
           },
           "baxis": {
            "gridcolor": "white",
            "linecolor": "white",
            "ticks": ""
           },
           "bgcolor": "#E5ECF6",
           "caxis": {
            "gridcolor": "white",
            "linecolor": "white",
            "ticks": ""
           }
          },
          "title": {
           "x": 0.05
          },
          "xaxis": {
           "automargin": true,
           "gridcolor": "white",
           "linecolor": "white",
           "ticks": "",
           "title": {
            "standoff": 15
           },
           "zerolinecolor": "white",
           "zerolinewidth": 2
          },
          "yaxis": {
           "automargin": true,
           "gridcolor": "white",
           "linecolor": "white",
           "ticks": "",
           "title": {
            "standoff": 15
           },
           "zerolinecolor": "white",
           "zerolinewidth": 2
          }
         }
        },
        "title": {
         "text": "UNIDADES vs FECHA"
        },
        "xaxis": {
         "title": {
          "text": "FECHA"
         }
        },
        "yaxis": {
         "title": {
          "text": "UNIDADES"
         }
        }
       }
      }
     },
     "metadata": {},
     "output_type": "display_data"
    }
   ],
   "source": [
    "import plotly.graph_objs as go\n",
    "\n",
    "# Assuming df_model and basicos_results_monthly are your DataFrames\n",
    "fig = go.Figure()\n",
    "\n",
    "# Add a trace for the UNIDADES column of df_model\n",
    "fig.add_trace(\n",
    "    go.Scatter(x=basicos_results_Linear.index, y=basicos_results_Linear['predicted_sales'], name='lineal')\n",
    ")\n",
    "\n",
    "# Add a trace for the UNIDADES column of basicos_results_monthly\n",
    "fig.add_trace(\n",
    "    go.Scatter(x=basicos_results_monthly.index, y=basicos_results_monthly['UNIDADES'], name='basicos_results_monthly')\n",
    ")\n",
    "\n",
    "# Set the title and axis labels\n",
    "fig.update_layout(\n",
    "    title='UNIDADES vs FECHA',\n",
    "    xaxis_title='FECHA',\n",
    "    yaxis_title='UNIDADES'\n",
    ")\n",
    "\n",
    "# Show the plot\n",
    "fig.show()"
   ]
  },
  {
   "cell_type": "code",
   "execution_count": 43,
   "metadata": {},
   "outputs": [
    {
     "ename": "NameError",
     "evalue": "name 'ñ' is not defined",
     "output_type": "error",
     "traceback": [
      "\u001b[1;31m---------------------------------------------------------------------------\u001b[0m",
      "\u001b[1;31mNameError\u001b[0m                                 Traceback (most recent call last)",
      "\u001b[1;32mc:\\Users\\HELENAMM\\OneDrive - offcorss.com\\OC Magic Data\\Proyecto pronostico\\Modelos fase 2\\modelo_basicos.ipynb Cell 50\u001b[0m in \u001b[0;36m1\n\u001b[1;32m----> <a href='vscode-notebook-cell:/c%3A/Users/HELENAMM/OneDrive%20-%20offcorss.com/OC%20Magic%20Data/Proyecto%20pronostico/Modelos%20fase%202/modelo_basicos.ipynb#Y151sZmlsZQ%3D%3D?line=0'>1</a>\u001b[0m ñ\n",
      "\u001b[1;31mNameError\u001b[0m: name 'ñ' is not defined"
     ]
    }
   ],
   "source": [
    "ñ"
   ]
  },
  {
   "cell_type": "code",
   "execution_count": null,
   "metadata": {},
   "outputs": [],
   "source": [
    "basicos_niña = pd.DataFrame()\n",
    "\n",
    "for tipo in tipos:\n",
    "    single_data = basicos.loc[basicos['Mundo'] == 'NIÑA']\n",
    "    single_data = single_data.loc[single_data['Tipo de Artículo'] == tipo]\n",
    "\n",
    "    single_data['FECHA'] = pd.to_datetime(single_data['FECHA VENTA']).dt.to_period('M')\n",
    "\n",
    "    df_model = single_data.groupby('FECHA')['UNIDADES'].sum().reset_index()\n",
    "\n",
    "    df_model['FECHA'] = df_model['FECHA'].apply(lambda x: x.to_timestamp())\n",
    "    df_model = df_model.loc[df_model['FECHA'] <= '2023-03-01']\n",
    "    \n",
    "    df_model['covid'] = [1 if ((x > pd.Timestamp('2020-03')) & (x < pd.Timestamp('2021-03'))) else 0 for x in df_model.FECHA]\n",
    "    df_model['month'] = df_model['FECHA'].dt.month\n",
    "    df_model['year'] = df_model['FECHA'].dt.year\n",
    "    \n",
    "    # print(df_model.tail(5))\n",
    "\n",
    "    if(len(df_model) < 15):\n",
    "        continue\n",
    "    else:\n",
    "        # print(tipo)\n",
    "        meses_basicos = [4,5,6,7,8,9,10]\n",
    "        basicos_results_monthly = pd.DataFrame()\n",
    "\n",
    "        basicos_results_monthly = pd.concat([basicos_results_monthly,XGB_model_future(df_model,)])\n",
    "        basicos_results_monthly['TIPO'] = tipo\n",
    "        basicos_results_monthly['MUNDO'] = 'NIÑA'\n",
    "        basicos_results_monthly = basicos_results_monthly.sort_index()\n",
    "\n",
    "        # print(basicos_results_monthly)\n",
    "\n",
    "        # ESTE CICLO PRONOSTICA VENTAS DESDE ABRIL HASTA OCTUBRE\n",
    "        \n",
    "        for mes in meses_basicos:\n",
    "            \n",
    "            df_model2 = df_model.loc[df_model['month'] == mes]\n",
    "            \n",
    "            if mes in df_model2['month'].unique():\n",
    "                # Data for test \n",
    "                last_date_train = df_model2.FECHA.iloc[len(df_model2)-1] \n",
    "\n",
    "                date_obj = datetime.strptime(last_date_train.strftime('%Y-%m-%d'), '%Y-%m-%d')\n",
    "                forecast_date = date_obj + relativedelta(years=1)\n",
    "                \n",
    "                final_date_test = datetime.strftime(forecast_date, '%Y-%m-%d')\n",
    "                basicos_results_monthly = pd.concat([basicos_results_monthly,XGB_model_future_monthly(df_model, final_date_test)])\n",
    "                basicos_results_monthly['TIPO'] = tipo\n",
    "                basicos_results_monthly['MUNDO'] = 'NIÑA'\n",
    "                basicos_results_monthly = basicos_results_monthly.sort_index()\n",
    "            else:\n",
    "                continue\n",
    "    # print(basicos_results_monthly)\n",
    "\n"
   ]
  },
  {
   "cell_type": "code",
   "execution_count": null,
   "metadata": {},
   "outputs": [],
   "source": [
    "basicos_results_monthly"
   ]
  },
  {
   "cell_type": "code",
   "execution_count": null,
   "metadata": {},
   "outputs": [
    {
     "ename": "NameError",
     "evalue": "name 'ñ' is not defined",
     "output_type": "error",
     "traceback": [
      "\u001b[1;31m---------------------------------------------------------------------------\u001b[0m",
      "\u001b[1;31mNameError\u001b[0m                                 Traceback (most recent call last)",
      "\u001b[1;32mc:\\Users\\HELENAMM\\OneDrive - offcorss.com\\OC Magic Data\\Proyecto pronostico\\Modelos fase 2\\modelo_basicos.ipynb Cell 46\u001b[0m in \u001b[0;36m1\n\u001b[1;32m----> <a href='vscode-notebook-cell:/c%3A/Users/HELENAMM/OneDrive%20-%20offcorss.com/OC%20Magic%20Data/Proyecto%20pronostico/Modelos%20fase%202/modelo_basicos.ipynb#Y140sZmlsZQ%3D%3D?line=0'>1</a>\u001b[0m ñ\n",
      "\u001b[1;31mNameError\u001b[0m: name 'ñ' is not defined"
     ]
    }
   ],
   "source": [
    "ñ"
   ]
  },
  {
   "cell_type": "code",
   "execution_count": null,
   "metadata": {},
   "outputs": [
    {
     "data": {
      "text/html": [
       "<div>\n",
       "<style scoped>\n",
       "    .dataframe tbody tr th:only-of-type {\n",
       "        vertical-align: middle;\n",
       "    }\n",
       "\n",
       "    .dataframe tbody tr th {\n",
       "        vertical-align: top;\n",
       "    }\n",
       "\n",
       "    .dataframe thead th {\n",
       "        text-align: right;\n",
       "    }\n",
       "</style>\n",
       "<table border=\"1\" class=\"dataframe\">\n",
       "  <thead>\n",
       "    <tr style=\"text-align: right;\">\n",
       "      <th></th>\n",
       "      <th>UNIDADES</th>\n",
       "      <th>TIPO</th>\n",
       "      <th>MUNDO</th>\n",
       "    </tr>\n",
       "    <tr>\n",
       "      <th>FECHA</th>\n",
       "      <th></th>\n",
       "      <th></th>\n",
       "      <th></th>\n",
       "    </tr>\n",
       "  </thead>\n",
       "  <tbody>\n",
       "    <tr>\n",
       "      <th>2023-04-01</th>\n",
       "      <td>45.0</td>\n",
       "      <td>PANTALON</td>\n",
       "      <td>NIÑA</td>\n",
       "    </tr>\n",
       "    <tr>\n",
       "      <th>2023-05-01</th>\n",
       "      <td>77.0</td>\n",
       "      <td>PANTALON</td>\n",
       "      <td>NIÑA</td>\n",
       "    </tr>\n",
       "    <tr>\n",
       "      <th>2023-06-01</th>\n",
       "      <td>91.0</td>\n",
       "      <td>PANTALON</td>\n",
       "      <td>NIÑA</td>\n",
       "    </tr>\n",
       "    <tr>\n",
       "      <th>2023-07-01</th>\n",
       "      <td>80.0</td>\n",
       "      <td>PANTALON</td>\n",
       "      <td>NIÑA</td>\n",
       "    </tr>\n",
       "    <tr>\n",
       "      <th>2023-08-01</th>\n",
       "      <td>55.0</td>\n",
       "      <td>PANTALON</td>\n",
       "      <td>NIÑA</td>\n",
       "    </tr>\n",
       "    <tr>\n",
       "      <th>2023-09-01</th>\n",
       "      <td>53.0</td>\n",
       "      <td>PANTALON</td>\n",
       "      <td>NIÑA</td>\n",
       "    </tr>\n",
       "    <tr>\n",
       "      <th>2023-10-01</th>\n",
       "      <td>66.0</td>\n",
       "      <td>PANTALON</td>\n",
       "      <td>NIÑA</td>\n",
       "    </tr>\n",
       "  </tbody>\n",
       "</table>\n",
       "</div>"
      ],
      "text/plain": [
       "            UNIDADES      TIPO MUNDO\n",
       "FECHA                               \n",
       "2023-04-01      45.0  PANTALON  NIÑA\n",
       "2023-05-01      77.0  PANTALON  NIÑA\n",
       "2023-06-01      91.0  PANTALON  NIÑA\n",
       "2023-07-01      80.0  PANTALON  NIÑA\n",
       "2023-08-01      55.0  PANTALON  NIÑA\n",
       "2023-09-01      53.0  PANTALON  NIÑA\n",
       "2023-10-01      66.0  PANTALON  NIÑA"
      ]
     },
     "execution_count": 295,
     "metadata": {},
     "output_type": "execute_result"
    }
   ],
   "source": [
    "basicos_results_monthly"
   ]
  },
  {
   "cell_type": "code",
   "execution_count": null,
   "metadata": {},
   "outputs": [
    {
     "data": {
      "application/vnd.plotly.v1+json": {
       "config": {
        "plotlyServerURL": "https://plot.ly"
       },
       "data": [
        {
         "name": "df_model",
         "type": "scatter",
         "x": [
          "2018-01-01T00:00:00",
          "2018-02-01T00:00:00",
          "2018-03-01T00:00:00",
          "2018-04-01T00:00:00",
          "2018-05-01T00:00:00",
          "2018-06-01T00:00:00",
          "2018-07-01T00:00:00",
          "2018-08-01T00:00:00",
          "2018-09-01T00:00:00",
          "2018-10-01T00:00:00",
          "2018-11-01T00:00:00",
          "2018-12-01T00:00:00",
          "2019-01-01T00:00:00",
          "2019-02-01T00:00:00",
          "2019-03-01T00:00:00",
          "2019-04-01T00:00:00",
          "2019-05-01T00:00:00",
          "2019-06-01T00:00:00",
          "2019-07-01T00:00:00",
          "2019-08-01T00:00:00",
          "2019-09-01T00:00:00",
          "2019-10-01T00:00:00",
          "2019-11-01T00:00:00",
          "2019-12-01T00:00:00",
          "2020-01-01T00:00:00",
          "2020-02-01T00:00:00",
          "2020-03-01T00:00:00",
          "2020-05-01T00:00:00",
          "2020-06-01T00:00:00",
          "2020-07-01T00:00:00",
          "2020-08-01T00:00:00",
          "2020-09-01T00:00:00",
          "2020-10-01T00:00:00",
          "2020-11-01T00:00:00",
          "2020-12-01T00:00:00",
          "2021-01-01T00:00:00",
          "2021-02-01T00:00:00",
          "2021-03-01T00:00:00",
          "2021-04-01T00:00:00",
          "2021-05-01T00:00:00",
          "2021-06-01T00:00:00",
          "2021-07-01T00:00:00",
          "2021-08-01T00:00:00",
          "2021-09-01T00:00:00",
          "2021-10-01T00:00:00",
          "2021-11-01T00:00:00",
          "2021-12-01T00:00:00",
          "2022-01-01T00:00:00",
          "2022-02-01T00:00:00",
          "2022-03-01T00:00:00",
          "2022-04-01T00:00:00",
          "2022-05-01T00:00:00",
          "2022-06-01T00:00:00",
          "2022-07-01T00:00:00",
          "2022-08-01T00:00:00",
          "2022-09-01T00:00:00",
          "2022-10-01T00:00:00",
          "2022-11-01T00:00:00",
          "2022-12-01T00:00:00",
          "2023-01-01T00:00:00",
          "2023-02-01T00:00:00",
          "2023-03-01T00:00:00"
         ],
         "y": [
          337,
          229,
          334,
          389,
          412,
          476,
          428,
          326,
          313,
          409,
          518,
          1630,
          125,
          83,
          138,
          196,
          321,
          298,
          195,
          202,
          167,
          164,
          247,
          858,
          56,
          68,
          30,
          1,
          38,
          75,
          85,
          148,
          178,
          352,
          627,
          48,
          77,
          98,
          66,
          85,
          54,
          62,
          44,
          66,
          56,
          92,
          142,
          2,
          4,
          3,
          50,
          76,
          107,
          102,
          79,
          59,
          81,
          134,
          350,
          13,
          3,
          5
         ]
        },
        {
         "name": "basicos_results_monthly",
         "type": "scatter",
         "x": [
          "2023-04-01T00:00:00",
          "2023-05-01T00:00:00",
          "2023-06-01T00:00:00",
          "2023-07-01T00:00:00",
          "2023-08-01T00:00:00",
          "2023-09-01T00:00:00",
          "2023-10-01T00:00:00"
         ],
         "y": [
          45,
          77,
          91,
          80,
          55,
          53,
          66
         ]
        }
       ],
       "layout": {
        "template": {
         "data": {
          "bar": [
           {
            "error_x": {
             "color": "#2a3f5f"
            },
            "error_y": {
             "color": "#2a3f5f"
            },
            "marker": {
             "line": {
              "color": "#E5ECF6",
              "width": 0.5
             },
             "pattern": {
              "fillmode": "overlay",
              "size": 10,
              "solidity": 0.2
             }
            },
            "type": "bar"
           }
          ],
          "barpolar": [
           {
            "marker": {
             "line": {
              "color": "#E5ECF6",
              "width": 0.5
             },
             "pattern": {
              "fillmode": "overlay",
              "size": 10,
              "solidity": 0.2
             }
            },
            "type": "barpolar"
           }
          ],
          "carpet": [
           {
            "aaxis": {
             "endlinecolor": "#2a3f5f",
             "gridcolor": "white",
             "linecolor": "white",
             "minorgridcolor": "white",
             "startlinecolor": "#2a3f5f"
            },
            "baxis": {
             "endlinecolor": "#2a3f5f",
             "gridcolor": "white",
             "linecolor": "white",
             "minorgridcolor": "white",
             "startlinecolor": "#2a3f5f"
            },
            "type": "carpet"
           }
          ],
          "choropleth": [
           {
            "colorbar": {
             "outlinewidth": 0,
             "ticks": ""
            },
            "type": "choropleth"
           }
          ],
          "contour": [
           {
            "colorbar": {
             "outlinewidth": 0,
             "ticks": ""
            },
            "colorscale": [
             [
              0,
              "#0d0887"
             ],
             [
              0.1111111111111111,
              "#46039f"
             ],
             [
              0.2222222222222222,
              "#7201a8"
             ],
             [
              0.3333333333333333,
              "#9c179e"
             ],
             [
              0.4444444444444444,
              "#bd3786"
             ],
             [
              0.5555555555555556,
              "#d8576b"
             ],
             [
              0.6666666666666666,
              "#ed7953"
             ],
             [
              0.7777777777777778,
              "#fb9f3a"
             ],
             [
              0.8888888888888888,
              "#fdca26"
             ],
             [
              1,
              "#f0f921"
             ]
            ],
            "type": "contour"
           }
          ],
          "contourcarpet": [
           {
            "colorbar": {
             "outlinewidth": 0,
             "ticks": ""
            },
            "type": "contourcarpet"
           }
          ],
          "heatmap": [
           {
            "colorbar": {
             "outlinewidth": 0,
             "ticks": ""
            },
            "colorscale": [
             [
              0,
              "#0d0887"
             ],
             [
              0.1111111111111111,
              "#46039f"
             ],
             [
              0.2222222222222222,
              "#7201a8"
             ],
             [
              0.3333333333333333,
              "#9c179e"
             ],
             [
              0.4444444444444444,
              "#bd3786"
             ],
             [
              0.5555555555555556,
              "#d8576b"
             ],
             [
              0.6666666666666666,
              "#ed7953"
             ],
             [
              0.7777777777777778,
              "#fb9f3a"
             ],
             [
              0.8888888888888888,
              "#fdca26"
             ],
             [
              1,
              "#f0f921"
             ]
            ],
            "type": "heatmap"
           }
          ],
          "heatmapgl": [
           {
            "colorbar": {
             "outlinewidth": 0,
             "ticks": ""
            },
            "colorscale": [
             [
              0,
              "#0d0887"
             ],
             [
              0.1111111111111111,
              "#46039f"
             ],
             [
              0.2222222222222222,
              "#7201a8"
             ],
             [
              0.3333333333333333,
              "#9c179e"
             ],
             [
              0.4444444444444444,
              "#bd3786"
             ],
             [
              0.5555555555555556,
              "#d8576b"
             ],
             [
              0.6666666666666666,
              "#ed7953"
             ],
             [
              0.7777777777777778,
              "#fb9f3a"
             ],
             [
              0.8888888888888888,
              "#fdca26"
             ],
             [
              1,
              "#f0f921"
             ]
            ],
            "type": "heatmapgl"
           }
          ],
          "histogram": [
           {
            "marker": {
             "pattern": {
              "fillmode": "overlay",
              "size": 10,
              "solidity": 0.2
             }
            },
            "type": "histogram"
           }
          ],
          "histogram2d": [
           {
            "colorbar": {
             "outlinewidth": 0,
             "ticks": ""
            },
            "colorscale": [
             [
              0,
              "#0d0887"
             ],
             [
              0.1111111111111111,
              "#46039f"
             ],
             [
              0.2222222222222222,
              "#7201a8"
             ],
             [
              0.3333333333333333,
              "#9c179e"
             ],
             [
              0.4444444444444444,
              "#bd3786"
             ],
             [
              0.5555555555555556,
              "#d8576b"
             ],
             [
              0.6666666666666666,
              "#ed7953"
             ],
             [
              0.7777777777777778,
              "#fb9f3a"
             ],
             [
              0.8888888888888888,
              "#fdca26"
             ],
             [
              1,
              "#f0f921"
             ]
            ],
            "type": "histogram2d"
           }
          ],
          "histogram2dcontour": [
           {
            "colorbar": {
             "outlinewidth": 0,
             "ticks": ""
            },
            "colorscale": [
             [
              0,
              "#0d0887"
             ],
             [
              0.1111111111111111,
              "#46039f"
             ],
             [
              0.2222222222222222,
              "#7201a8"
             ],
             [
              0.3333333333333333,
              "#9c179e"
             ],
             [
              0.4444444444444444,
              "#bd3786"
             ],
             [
              0.5555555555555556,
              "#d8576b"
             ],
             [
              0.6666666666666666,
              "#ed7953"
             ],
             [
              0.7777777777777778,
              "#fb9f3a"
             ],
             [
              0.8888888888888888,
              "#fdca26"
             ],
             [
              1,
              "#f0f921"
             ]
            ],
            "type": "histogram2dcontour"
           }
          ],
          "mesh3d": [
           {
            "colorbar": {
             "outlinewidth": 0,
             "ticks": ""
            },
            "type": "mesh3d"
           }
          ],
          "parcoords": [
           {
            "line": {
             "colorbar": {
              "outlinewidth": 0,
              "ticks": ""
             }
            },
            "type": "parcoords"
           }
          ],
          "pie": [
           {
            "automargin": true,
            "type": "pie"
           }
          ],
          "scatter": [
           {
            "fillpattern": {
             "fillmode": "overlay",
             "size": 10,
             "solidity": 0.2
            },
            "type": "scatter"
           }
          ],
          "scatter3d": [
           {
            "line": {
             "colorbar": {
              "outlinewidth": 0,
              "ticks": ""
             }
            },
            "marker": {
             "colorbar": {
              "outlinewidth": 0,
              "ticks": ""
             }
            },
            "type": "scatter3d"
           }
          ],
          "scattercarpet": [
           {
            "marker": {
             "colorbar": {
              "outlinewidth": 0,
              "ticks": ""
             }
            },
            "type": "scattercarpet"
           }
          ],
          "scattergeo": [
           {
            "marker": {
             "colorbar": {
              "outlinewidth": 0,
              "ticks": ""
             }
            },
            "type": "scattergeo"
           }
          ],
          "scattergl": [
           {
            "marker": {
             "colorbar": {
              "outlinewidth": 0,
              "ticks": ""
             }
            },
            "type": "scattergl"
           }
          ],
          "scattermapbox": [
           {
            "marker": {
             "colorbar": {
              "outlinewidth": 0,
              "ticks": ""
             }
            },
            "type": "scattermapbox"
           }
          ],
          "scatterpolar": [
           {
            "marker": {
             "colorbar": {
              "outlinewidth": 0,
              "ticks": ""
             }
            },
            "type": "scatterpolar"
           }
          ],
          "scatterpolargl": [
           {
            "marker": {
             "colorbar": {
              "outlinewidth": 0,
              "ticks": ""
             }
            },
            "type": "scatterpolargl"
           }
          ],
          "scatterternary": [
           {
            "marker": {
             "colorbar": {
              "outlinewidth": 0,
              "ticks": ""
             }
            },
            "type": "scatterternary"
           }
          ],
          "surface": [
           {
            "colorbar": {
             "outlinewidth": 0,
             "ticks": ""
            },
            "colorscale": [
             [
              0,
              "#0d0887"
             ],
             [
              0.1111111111111111,
              "#46039f"
             ],
             [
              0.2222222222222222,
              "#7201a8"
             ],
             [
              0.3333333333333333,
              "#9c179e"
             ],
             [
              0.4444444444444444,
              "#bd3786"
             ],
             [
              0.5555555555555556,
              "#d8576b"
             ],
             [
              0.6666666666666666,
              "#ed7953"
             ],
             [
              0.7777777777777778,
              "#fb9f3a"
             ],
             [
              0.8888888888888888,
              "#fdca26"
             ],
             [
              1,
              "#f0f921"
             ]
            ],
            "type": "surface"
           }
          ],
          "table": [
           {
            "cells": {
             "fill": {
              "color": "#EBF0F8"
             },
             "line": {
              "color": "white"
             }
            },
            "header": {
             "fill": {
              "color": "#C8D4E3"
             },
             "line": {
              "color": "white"
             }
            },
            "type": "table"
           }
          ]
         },
         "layout": {
          "annotationdefaults": {
           "arrowcolor": "#2a3f5f",
           "arrowhead": 0,
           "arrowwidth": 1
          },
          "autotypenumbers": "strict",
          "coloraxis": {
           "colorbar": {
            "outlinewidth": 0,
            "ticks": ""
           }
          },
          "colorscale": {
           "diverging": [
            [
             0,
             "#8e0152"
            ],
            [
             0.1,
             "#c51b7d"
            ],
            [
             0.2,
             "#de77ae"
            ],
            [
             0.3,
             "#f1b6da"
            ],
            [
             0.4,
             "#fde0ef"
            ],
            [
             0.5,
             "#f7f7f7"
            ],
            [
             0.6,
             "#e6f5d0"
            ],
            [
             0.7,
             "#b8e186"
            ],
            [
             0.8,
             "#7fbc41"
            ],
            [
             0.9,
             "#4d9221"
            ],
            [
             1,
             "#276419"
            ]
           ],
           "sequential": [
            [
             0,
             "#0d0887"
            ],
            [
             0.1111111111111111,
             "#46039f"
            ],
            [
             0.2222222222222222,
             "#7201a8"
            ],
            [
             0.3333333333333333,
             "#9c179e"
            ],
            [
             0.4444444444444444,
             "#bd3786"
            ],
            [
             0.5555555555555556,
             "#d8576b"
            ],
            [
             0.6666666666666666,
             "#ed7953"
            ],
            [
             0.7777777777777778,
             "#fb9f3a"
            ],
            [
             0.8888888888888888,
             "#fdca26"
            ],
            [
             1,
             "#f0f921"
            ]
           ],
           "sequentialminus": [
            [
             0,
             "#0d0887"
            ],
            [
             0.1111111111111111,
             "#46039f"
            ],
            [
             0.2222222222222222,
             "#7201a8"
            ],
            [
             0.3333333333333333,
             "#9c179e"
            ],
            [
             0.4444444444444444,
             "#bd3786"
            ],
            [
             0.5555555555555556,
             "#d8576b"
            ],
            [
             0.6666666666666666,
             "#ed7953"
            ],
            [
             0.7777777777777778,
             "#fb9f3a"
            ],
            [
             0.8888888888888888,
             "#fdca26"
            ],
            [
             1,
             "#f0f921"
            ]
           ]
          },
          "colorway": [
           "#636efa",
           "#EF553B",
           "#00cc96",
           "#ab63fa",
           "#FFA15A",
           "#19d3f3",
           "#FF6692",
           "#B6E880",
           "#FF97FF",
           "#FECB52"
          ],
          "font": {
           "color": "#2a3f5f"
          },
          "geo": {
           "bgcolor": "white",
           "lakecolor": "white",
           "landcolor": "#E5ECF6",
           "showlakes": true,
           "showland": true,
           "subunitcolor": "white"
          },
          "hoverlabel": {
           "align": "left"
          },
          "hovermode": "closest",
          "mapbox": {
           "style": "light"
          },
          "paper_bgcolor": "white",
          "plot_bgcolor": "#E5ECF6",
          "polar": {
           "angularaxis": {
            "gridcolor": "white",
            "linecolor": "white",
            "ticks": ""
           },
           "bgcolor": "#E5ECF6",
           "radialaxis": {
            "gridcolor": "white",
            "linecolor": "white",
            "ticks": ""
           }
          },
          "scene": {
           "xaxis": {
            "backgroundcolor": "#E5ECF6",
            "gridcolor": "white",
            "gridwidth": 2,
            "linecolor": "white",
            "showbackground": true,
            "ticks": "",
            "zerolinecolor": "white"
           },
           "yaxis": {
            "backgroundcolor": "#E5ECF6",
            "gridcolor": "white",
            "gridwidth": 2,
            "linecolor": "white",
            "showbackground": true,
            "ticks": "",
            "zerolinecolor": "white"
           },
           "zaxis": {
            "backgroundcolor": "#E5ECF6",
            "gridcolor": "white",
            "gridwidth": 2,
            "linecolor": "white",
            "showbackground": true,
            "ticks": "",
            "zerolinecolor": "white"
           }
          },
          "shapedefaults": {
           "line": {
            "color": "#2a3f5f"
           }
          },
          "ternary": {
           "aaxis": {
            "gridcolor": "white",
            "linecolor": "white",
            "ticks": ""
           },
           "baxis": {
            "gridcolor": "white",
            "linecolor": "white",
            "ticks": ""
           },
           "bgcolor": "#E5ECF6",
           "caxis": {
            "gridcolor": "white",
            "linecolor": "white",
            "ticks": ""
           }
          },
          "title": {
           "x": 0.05
          },
          "xaxis": {
           "automargin": true,
           "gridcolor": "white",
           "linecolor": "white",
           "ticks": "",
           "title": {
            "standoff": 15
           },
           "zerolinecolor": "white",
           "zerolinewidth": 2
          },
          "yaxis": {
           "automargin": true,
           "gridcolor": "white",
           "linecolor": "white",
           "ticks": "",
           "title": {
            "standoff": 15
           },
           "zerolinecolor": "white",
           "zerolinewidth": 2
          }
         }
        },
        "title": {
         "text": "UNIDADES vs FECHA"
        },
        "xaxis": {
         "title": {
          "text": "FECHA"
         }
        },
        "yaxis": {
         "title": {
          "text": "UNIDADES"
         }
        }
       }
      }
     },
     "metadata": {},
     "output_type": "display_data"
    }
   ],
   "source": [
    "import plotly.graph_objs as go\n",
    "\n",
    "# Assuming df_model and basicos_results_monthly are your DataFrames\n",
    "fig = go.Figure()\n",
    "\n",
    "# Add a trace for the UNIDADES column of df_model\n",
    "fig.add_trace(\n",
    "    go.Scatter(x=df_model.FECHA, y=df_model['UNIDADES'], name='df_model')\n",
    ")\n",
    "\n",
    "# Add a trace for the UNIDADES column of basicos_results_monthly\n",
    "fig.add_trace(\n",
    "    go.Scatter(x=basicos_results_monthly.index, y=basicos_results_monthly['UNIDADES'], name='basicos_results_monthly')\n",
    ")\n",
    "\n",
    "# Set the title and axis labels\n",
    "fig.update_layout(\n",
    "    title='UNIDADES vs FECHA',\n",
    "    xaxis_title='FECHA',\n",
    "    yaxis_title='UNIDADES'\n",
    ")\n",
    "\n",
    "# Show the plot\n",
    "fig.show()\n"
   ]
  },
  {
   "cell_type": "code",
   "execution_count": null,
   "metadata": {},
   "outputs": [
    {
     "data": {
      "text/html": [
       "<div>\n",
       "<style scoped>\n",
       "    .dataframe tbody tr th:only-of-type {\n",
       "        vertical-align: middle;\n",
       "    }\n",
       "\n",
       "    .dataframe tbody tr th {\n",
       "        vertical-align: top;\n",
       "    }\n",
       "\n",
       "    .dataframe thead th {\n",
       "        text-align: right;\n",
       "    }\n",
       "</style>\n",
       "<table border=\"1\" class=\"dataframe\">\n",
       "  <thead>\n",
       "    <tr style=\"text-align: right;\">\n",
       "      <th></th>\n",
       "      <th>UNIDADES</th>\n",
       "      <th>TIPO</th>\n",
       "      <th>MUNDO</th>\n",
       "    </tr>\n",
       "    <tr>\n",
       "      <th>FECHA</th>\n",
       "      <th></th>\n",
       "      <th></th>\n",
       "      <th></th>\n",
       "    </tr>\n",
       "  </thead>\n",
       "  <tbody>\n",
       "    <tr>\n",
       "      <th>2023-04-01</th>\n",
       "      <td>45.0</td>\n",
       "      <td>BOLSITA</td>\n",
       "      <td>NIÑA</td>\n",
       "    </tr>\n",
       "    <tr>\n",
       "      <th>2023-05-01</th>\n",
       "      <td>77.0</td>\n",
       "      <td>BOLSITA</td>\n",
       "      <td>NIÑA</td>\n",
       "    </tr>\n",
       "    <tr>\n",
       "      <th>2023-06-01</th>\n",
       "      <td>91.0</td>\n",
       "      <td>BOLSITA</td>\n",
       "      <td>NIÑA</td>\n",
       "    </tr>\n",
       "    <tr>\n",
       "      <th>2023-07-01</th>\n",
       "      <td>80.0</td>\n",
       "      <td>BOLSITA</td>\n",
       "      <td>NIÑA</td>\n",
       "    </tr>\n",
       "    <tr>\n",
       "      <th>2023-08-01</th>\n",
       "      <td>55.0</td>\n",
       "      <td>BOLSITA</td>\n",
       "      <td>NIÑA</td>\n",
       "    </tr>\n",
       "    <tr>\n",
       "      <th>2023-09-01</th>\n",
       "      <td>53.0</td>\n",
       "      <td>BOLSITA</td>\n",
       "      <td>NIÑA</td>\n",
       "    </tr>\n",
       "    <tr>\n",
       "      <th>2023-10-01</th>\n",
       "      <td>66.0</td>\n",
       "      <td>BOLSITA</td>\n",
       "      <td>NIÑA</td>\n",
       "    </tr>\n",
       "  </tbody>\n",
       "</table>\n",
       "</div>"
      ],
      "text/plain": [
       "            UNIDADES     TIPO MUNDO\n",
       "FECHA                              \n",
       "2023-04-01      45.0  BOLSITA  NIÑA\n",
       "2023-05-01      77.0  BOLSITA  NIÑA\n",
       "2023-06-01      91.0  BOLSITA  NIÑA\n",
       "2023-07-01      80.0  BOLSITA  NIÑA\n",
       "2023-08-01      55.0  BOLSITA  NIÑA\n",
       "2023-09-01      53.0  BOLSITA  NIÑA\n",
       "2023-10-01      66.0  BOLSITA  NIÑA"
      ]
     },
     "execution_count": 265,
     "metadata": {},
     "output_type": "execute_result"
    }
   ],
   "source": []
  },
  {
   "cell_type": "code",
   "execution_count": null,
   "metadata": {},
   "outputs": [],
   "source": [
    "basicos[(basicos['Mundo'] == 'NIÑA' ) &\n",
    "                                        (basicos['Tipo de Artículo'] == 'CAMISA MANGA LARGA')]"
   ]
  },
  {
   "attachments": {},
   "cell_type": "markdown",
   "metadata": {},
   "source": [
    "#### NUEVOS DATOS FUTUROS LINEAL\n"
   ]
  },
  {
   "cell_type": "code",
   "execution_count": null,
   "metadata": {},
   "outputs": [],
   "source": [
    "new_dates = pd.date_range(start = '2023-04-01', end='2023-10-01', freq='MS')\n",
    "new_df = pd.DataFrame({'UNIDADES':0,'month': new_dates.month, 'year': new_dates.year,'covid':0})"
   ]
  },
  {
   "cell_type": "code",
   "execution_count": null,
   "metadata": {},
   "outputs": [
    {
     "data": {
      "text/html": [
       "<div>\n",
       "<style scoped>\n",
       "    .dataframe tbody tr th:only-of-type {\n",
       "        vertical-align: middle;\n",
       "    }\n",
       "\n",
       "    .dataframe tbody tr th {\n",
       "        vertical-align: top;\n",
       "    }\n",
       "\n",
       "    .dataframe thead th {\n",
       "        text-align: right;\n",
       "    }\n",
       "</style>\n",
       "<table border=\"1\" class=\"dataframe\">\n",
       "  <thead>\n",
       "    <tr style=\"text-align: right;\">\n",
       "      <th></th>\n",
       "      <th>UNIDADES</th>\n",
       "      <th>month</th>\n",
       "      <th>year</th>\n",
       "      <th>covid</th>\n",
       "      <th>predicted_sales</th>\n",
       "    </tr>\n",
       "  </thead>\n",
       "  <tbody>\n",
       "    <tr>\n",
       "      <th>0</th>\n",
       "      <td>0</td>\n",
       "      <td>4</td>\n",
       "      <td>2023</td>\n",
       "      <td>0</td>\n",
       "      <td>50.0</td>\n",
       "    </tr>\n",
       "    <tr>\n",
       "      <th>1</th>\n",
       "      <td>0</td>\n",
       "      <td>5</td>\n",
       "      <td>2023</td>\n",
       "      <td>0</td>\n",
       "      <td>50.0</td>\n",
       "    </tr>\n",
       "    <tr>\n",
       "      <th>2</th>\n",
       "      <td>0</td>\n",
       "      <td>6</td>\n",
       "      <td>2023</td>\n",
       "      <td>0</td>\n",
       "      <td>50.0</td>\n",
       "    </tr>\n",
       "    <tr>\n",
       "      <th>3</th>\n",
       "      <td>0</td>\n",
       "      <td>7</td>\n",
       "      <td>2023</td>\n",
       "      <td>0</td>\n",
       "      <td>50.0</td>\n",
       "    </tr>\n",
       "    <tr>\n",
       "      <th>4</th>\n",
       "      <td>0</td>\n",
       "      <td>8</td>\n",
       "      <td>2023</td>\n",
       "      <td>0</td>\n",
       "      <td>50.0</td>\n",
       "    </tr>\n",
       "    <tr>\n",
       "      <th>5</th>\n",
       "      <td>0</td>\n",
       "      <td>9</td>\n",
       "      <td>2023</td>\n",
       "      <td>0</td>\n",
       "      <td>50.0</td>\n",
       "    </tr>\n",
       "    <tr>\n",
       "      <th>6</th>\n",
       "      <td>0</td>\n",
       "      <td>10</td>\n",
       "      <td>2023</td>\n",
       "      <td>0</td>\n",
       "      <td>50.0</td>\n",
       "    </tr>\n",
       "  </tbody>\n",
       "</table>\n",
       "</div>"
      ],
      "text/plain": [
       "   UNIDADES  month  year  covid  predicted_sales\n",
       "0         0      4  2023      0             50.0\n",
       "1         0      5  2023      0             50.0\n",
       "2         0      6  2023      0             50.0\n",
       "3         0      7  2023      0             50.0\n",
       "4         0      8  2023      0             50.0\n",
       "5         0      9  2023      0             50.0\n",
       "6         0     10  2023      0             50.0"
      ]
     },
     "execution_count": 272,
     "metadata": {},
     "output_type": "execute_result"
    }
   ],
   "source": [
    "new_X = new_df.drop(['UNIDADES'], axis=1)\n",
    "new_df['predicted_sales'] = np.ceil(xg_reg.predict(new_X))\n",
    "new_df"
   ]
  },
  {
   "cell_type": "code",
   "execution_count": null,
   "metadata": {},
   "outputs": [
    {
     "ename": "NameError",
     "evalue": "name 'ñññññññ' is not defined",
     "output_type": "error",
     "traceback": [
      "\u001b[1;31m---------------------------------------------------------------------------\u001b[0m",
      "\u001b[1;31mNameError\u001b[0m                                 Traceback (most recent call last)",
      "\u001b[1;32mc:\\Users\\HELENAMM\\OneDrive - offcorss.com\\OC Magic Data\\Proyecto pronostico\\Modelos fase 2\\modelo_basicos.ipynb Cell 34\u001b[0m in \u001b[0;36m1\n\u001b[1;32m----> <a href='vscode-notebook-cell:/c%3A/Users/HELENAMM/OneDrive%20-%20offcorss.com/OC%20Magic%20Data/Proyecto%20pronostico/Modelos%20fase%202/modelo_basicos.ipynb#Y115sZmlsZQ%3D%3D?line=0'>1</a>\u001b[0m ñññññññ\n",
      "\u001b[1;31mNameError\u001b[0m: name 'ñññññññ' is not defined"
     ]
    }
   ],
   "source": [
    "ñññññññ"
   ]
  },
  {
   "attachments": {},
   "cell_type": "markdown",
   "metadata": {},
   "source": [
    "# DELETE"
   ]
  },
  {
   "cell_type": "code",
   "execution_count": null,
   "metadata": {},
   "outputs": [],
   "source": [
    "fecha_inicial = '2023-03'\n",
    "fecha_final = '2024-02'\n",
    "\n",
    "basicos_individual['MES_AÑO'] = pd.to_datetime(basicos_individual['AÑO'].astype(str) + \n",
    "                            '-' + basicos_individual['MES'].astype(str)).dt.strftime('%Y-%m')\n",
    "\n",
    "# df_model.MES_AÑO = pd.to_datetime(df_model.MES_AÑO)\n",
    "\n",
    "# #  TRAIN & TEST\n",
    "train = basicos_individual.loc[basicos_individual.MES_AÑO < pd.to_datetime(fecha_inicial)].set_index('MES_AÑO')\n",
    "\n",
    "test = basicos_individual.loc[(basicos_individual.MES_AÑO >= pd.to_datetime(fecha_inicial)) & \n",
    "                    (basicos_individual.MES_AÑO < pd.to_datetime(fecha_final))].set_index('MES_AÑO')\n",
    "\n",
    "\n",
    "\n",
    " # Define el train y test de acuerdo con las bases de datos de train y de test\n",
    "# X_train, y_train = create_features(train)\n",
    "# X_test, y_test = create_features(test)\n",
    "\n",
    "# reg = xgb.XGBRegressor(base_score=0.5, booster='gbtree',    \n",
    "#                         n_estimators = 1000,\n",
    "#                         early_stopping_rounds=50,\n",
    "#                         objective='reg:squarederror',\n",
    "#                         max_depth=3,\n",
    "#                         learning_rate=0.01,\n",
    "#                         eval_metric = ['rmse','mae','mape']\n",
    "#                         )\n",
    "\n",
    "# reg.fit(X_train,y_train,\n",
    "#     eval_set=[(X_train, y_train), (X_test, y_test)],\n",
    "#     verbose = False)\n",
    "\n",
    "# pred_test = reg.predict(X_test)\n",
    "# test['UNIDADES'] = np.ceil(pred_test)"
   ]
  },
  {
   "cell_type": "code",
   "execution_count": null,
   "metadata": {},
   "outputs": [],
   "source": []
  },
  {
   "cell_type": "code",
   "execution_count": null,
   "metadata": {},
   "outputs": [],
   "source": []
  },
  {
   "cell_type": "code",
   "execution_count": null,
   "metadata": {},
   "outputs": [],
   "source": [
    "# meses pronostico\n",
    "meses_basicos = [1,2,3,4,5,6,7,8,9,10,11,12]\n",
    "basicos_results = pd.DataFrame()\n",
    "\n",
    "for mes in meses_basicos:\n",
    "    if mes in basicos_individual2['MES'].unique():\n",
    "        df_month = df_model[df_model['MES'] == mes]\n",
    "        basicos_results = pd.concat([basicos_results, df_model[df_model['MES'] == mes]])\n",
    "\n"
   ]
  },
  {
   "cell_type": "code",
   "execution_count": null,
   "metadata": {},
   "outputs": [],
   "source": [
    "(df_month)"
   ]
  },
  {
   "cell_type": "code",
   "execution_count": null,
   "metadata": {},
   "outputs": [],
   "source": [
    "test = df_month.loc[(df_month.MES_AÑO >= pd.to_datetime(fecha_inicial)) & \n",
    "                    (df_month.MES_AÑO < pd.to_datetime(fecha_final))].set_index('MES_AÑO')\n",
    "test"
   ]
  },
  {
   "cell_type": "code",
   "execution_count": null,
   "metadata": {},
   "outputs": [],
   "source": [
    "fecha_inicial = '2023-03'\n",
    "fecha_final = '2024-02'\n",
    "\n",
    "df_model.MES_AÑO = pd.to_datetime(df_model.MES_AÑO)\n",
    "\n",
    "#  TRAIN & TEST\n",
    "train = df_month.loc[df_month.MES_AÑO < pd.to_datetime(fecha_inicial)].set_index('MES_AÑO')\n",
    "\n",
    "test = df_month.loc[(df_month.MES_AÑO >= pd.to_datetime(fecha_inicial)) & \n",
    "                    (df_month.MES_AÑO < pd.to_datetime(fecha_final))].set_index('MES_AÑO')\n",
    "\n",
    "\n",
    "\n",
    " # Define el train y test de acuerdo con las bases de datos de train y de test\n",
    "X_train, y_train = create_features_mes_venta(train, label = 'UNIDADES')\n",
    "X_test, y_test = create_features_mes_venta(test, label = 'UNIDADES')\n",
    "\n",
    "reg = xgb.XGBRegressor(base_score=0.5, booster='gbtree',    \n",
    "                        n_estimators = 1000,\n",
    "                        early_stopping_rounds=50,\n",
    "                        objective='reg:squarederror',\n",
    "                        max_depth=3,\n",
    "                        learning_rate=0.01,\n",
    "                        eval_metric = ['rmse','mae','mape']\n",
    "                        )\n",
    "\n",
    "reg.fit(X_train,y_train,\n",
    "    eval_set=[(X_train, y_train), (X_test, y_test)],\n",
    "    verbose = False)\n",
    "\n",
    "pred_test = reg.predict(X_test)\n",
    "test['UNIDADES'] = np.ceil(pred_test)\n"
   ]
  },
  {
   "cell_type": "code",
   "execution_count": null,
   "metadata": {},
   "outputs": [],
   "source": [
    "pd.concat([train,test])"
   ]
  },
  {
   "cell_type": "code",
   "execution_count": null,
   "metadata": {},
   "outputs": [],
   "source": [
    "ññññ"
   ]
  },
  {
   "cell_type": "code",
   "execution_count": null,
   "metadata": {},
   "outputs": [],
   "source": [
    "\n",
    "\n",
    "basicos_forecast = {}\n",
    "\n",
    "basicos_results = pd.DataFrame()\n",
    "\n",
    "for mes in meses_basicos:\n",
    "    if mes in basicos_individual2['MES'].unique():\n",
    "        basicos_results = pd.concat([basicos_results, XGB_model(df_model[df_model['MES'] == mes])])\n",
    "    else:\n",
    "        basicos_forecast[mes] = 0\n",
    "        basicos_results = pd.concat([basicos_results, pd.DataFrame.from_dict({'MES_AÑO': [(mes)], 'UNIDADES': [0]}).set_index('MES_AÑO')])"
   ]
  },
  {
   "cell_type": "code",
   "execution_count": null,
   "metadata": {},
   "outputs": [],
   "source": [
    "basicos_results"
   ]
  },
  {
   "cell_type": "code",
   "execution_count": null,
   "metadata": {},
   "outputs": [],
   "source": [
    "pd.concat([df_model,basicos_results])"
   ]
  },
  {
   "cell_type": "code",
   "execution_count": null,
   "metadata": {},
   "outputs": [],
   "source": [
    "basicos_results.sort_index()"
   ]
  },
  {
   "attachments": {},
   "cell_type": "markdown",
   "metadata": {},
   "source": [
    "#### todos"
   ]
  },
  {
   "cell_type": "code",
   "execution_count": null,
   "metadata": {},
   "outputs": [],
   "source": [
    "basicos_results = pd.DataFrame()\n",
    "basicos_results_final = pd.DataFrame()\n",
    "c = 0\n",
    "\n",
    "mundos = ['NIÑA','NIÑO','BEBÉ NIÑO','BEBÉ NIÑA','PRIMI NIÑO','PRIMI NIÑA']\n",
    "tipos = ['SANDALIA','VESTIDO MANGA LARGA','CAMISA MANGA LARGA','OVERALL CORTO', 'OVERALL CORTO','DENIM']\n",
    "\n",
    "\n",
    "for mundo in mundos:\n",
    "    # output_file = f\"basicos_resultados_{mundo}.xlsx\"\n",
    "    \n",
    "    basicos_results_final = pd.DataFrame()\n",
    "    for tipo in basicos['Tipo de Artículo'].unique():\n",
    "    # for tipo in tipos:\n",
    "\n",
    "        basicos_individual = basicos[(basicos['Mundo'] == mundo ) &\n",
    "                                        (basicos['Tipo de Artículo'] == tipo)]\n",
    "\n",
    "\n",
    "        basicos_individual2 = basicos_individual.groupby(['MES', 'AÑO'])[\n",
    "        'UNIDADES'].sum().to_frame().sort_values(by=['AÑO', 'MES']).reset_index()\n",
    "\n",
    "\n",
    "        basicos_individual2['MES_AÑO'] = pd.to_datetime(basicos_individual2['AÑO'].astype(str) + \n",
    "                                    '-' + basicos_individual2['MES'].astype(str))#.dt.strftime('%Y-%m')\n",
    "        \n",
    "        if(len(basicos_individual2) >= 15):\n",
    "\n",
    "            df_model = pd.concat([basicos_individual2,test_df], axis=0, ignore_index=True)\n",
    "    \n",
    "            meses_basicos = [1,2,3,4,5,6,7,8,9,10,11,12]\n",
    "            basicos_forecast = {}\n",
    "\n",
    "            basicos_individual2['MES'] = pd.to_datetime(basicos_individual2['MES_AÑO']).dt.month\n",
    "            \n",
    "            # basicos_results = pd.concat([basicos_results, XGB_model(df_model)])\n",
    "\n",
    "            for mes in meses_basicos:\n",
    "                if mes in basicos_individual2['MES'].unique():\n",
    "                    basicos_results = pd.concat([basicos_results, XGB_model(df_model[df_model['MES'] == mes])])\n",
    "                else:\n",
    "                    basicos_forecast[mes] = 0\n",
    "                    basicos_results = pd.concat([basicos_results, pd.DataFrame.from_dict({'MES_AÑO': [mes], 'UNIDADES': [0]}).set_index('MES_AÑO')])\n",
    "\n",
    "            basicos_results2 = basicos_results.reset_index()\n",
    "            \n",
    "            \n",
    "            basicos_results2['MES_AÑO'] = pd.to_datetime(basicos_results2['MES_AÑO'].astype(str))#.dt.strftime('%Y-%m')\n",
    "            basicos_results2['mundo'] = mundo\n",
    "            basicos_results2['tipo'] = tipo\n",
    "            basicos_results2['cv'] = calcular_Cv(basicos_individual2)\n",
    "            basicos_results2 = basicos_results2.sort_values(by='MES_AÑO')\n",
    "                        \n",
    "            if(len(basicos_results)> 10):\n",
    "                basicos_results_final =  basicos_results_final.append(basicos_results2, ignore_index= True)\n",
    "                # print(basicos_results_final.columns,basicos_results_final.index)\n",
    "                basicos_results = pd.DataFrame()\n",
    "\n",
    "        else:\n",
    "            continue\n",
    "\n",
    "        # with pd.ExcelWriter(output_file) as writer:\n",
    "        #     basicos_results_final.to_excel(writer, sheet_name=mundo, index=False)\n",
    "    # data_frame2.to_excel(writer, sheet_name=\"Vegetables\", index=False)\n",
    "    # data_frame3.to_excel(writer, sheet_name=\"Baked Items\", index=False)"
   ]
  },
  {
   "cell_type": "code",
   "execution_count": null,
   "metadata": {},
   "outputs": [],
   "source": [
    "basicos_results_final.to_excel('BASICOS_NIÑA.xslx')"
   ]
  },
  {
   "cell_type": "code",
   "execution_count": null,
   "metadata": {},
   "outputs": [],
   "source": [
    "Ñ"
   ]
  },
  {
   "cell_type": "code",
   "execution_count": null,
   "metadata": {},
   "outputs": [],
   "source": [
    "basicos_results"
   ]
  },
  {
   "cell_type": "code",
   "execution_count": null,
   "metadata": {},
   "outputs": [],
   "source": [
    "basicos_individual2['MES_AÑO'] = pd.to_datetime(basicos_individual2['MES_AÑO'])\n",
    "basicos_individual2[['MES_AÑO','UNIDADES']]"
   ]
  },
  {
   "cell_type": "code",
   "execution_count": null,
   "metadata": {},
   "outputs": [],
   "source": [
    "results = basicos_individual2[['MES_AÑO','UNIDADES']].merge(\n",
    "    basicos_results.reset_index().rename(columns={'UNIDADES':'FORECAST'}),\n",
    "    on= 'MES_AÑO'\n",
    ")"
   ]
  },
  {
   "cell_type": "code",
   "execution_count": null,
   "metadata": {},
   "outputs": [],
   "source": [
    "results['diferencia'] = np.ceil(abs(results['UNIDADES']- results['FORECAST']))"
   ]
  },
  {
   "cell_type": "code",
   "execution_count": null,
   "metadata": {},
   "outputs": [],
   "source": [
    "from sklearn.metrics import mean_absolute_percentage_error as MAPE\n",
    "print('MAPE ES  ..............',   round(MAPE(results['UNIDADES'], results['FORECAST']),2))"
   ]
  },
  {
   "cell_type": "code",
   "execution_count": null,
   "metadata": {},
   "outputs": [],
   "source": [
    "results"
   ]
  },
  {
   "cell_type": "code",
   "execution_count": null,
   "metadata": {},
   "outputs": [],
   "source": [
    "results.set_index('MES_AÑO').plot()"
   ]
  }
 ],
 "metadata": {
  "kernelspec": {
   "display_name": "Python 3",
   "language": "python",
   "name": "python3"
  },
  "language_info": {
   "codemirror_mode": {
    "name": "ipython",
    "version": 3
   },
   "file_extension": ".py",
   "mimetype": "text/x-python",
   "name": "python",
   "nbconvert_exporter": "python",
   "pygments_lexer": "ipython3",
   "version": "3.10.11"
  },
  "orig_nbformat": 4
 },
 "nbformat": 4,
 "nbformat_minor": 2
}
